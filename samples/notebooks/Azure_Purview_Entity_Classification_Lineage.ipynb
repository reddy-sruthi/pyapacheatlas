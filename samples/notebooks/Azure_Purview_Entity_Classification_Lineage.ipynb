{
 "cells": [
  {
   "cell_type": "markdown",
   "metadata": {
    "application/vnd.databricks.v1+cell": {
     "cellMetadata": {},
     "inputWidgets": {},
     "nuid": "0bc9e635-fddd-4cfb-a04d-d34651a2a8a9",
     "showTitle": false,
     "title": ""
    }
   },
   "source": [
    "# Overview\n",
    "\n",
    "In this notebook, we will explore how to create Azure Purview entity, classication, and lineage using Atlas APIs.\n",
    "\n",
    "## Pre-requsites\n",
    "\n",
    "- [Python 3](https://www.python.org/downloads/)\n",
    "- [Az CLI](https://docs.microsoft.com/en-us/cli/azure/install-azure-cli)"
   ]
  },
  {
   "cell_type": "code",
   "execution_count": 0,
   "metadata": {
    "application/vnd.databricks.v1+cell": {
     "cellMetadata": {},
     "inputWidgets": {},
     "nuid": "64bf9b62-b037-4da6-8a72-c762fdcec41f",
     "showTitle": false,
     "title": ""
    }
   },
   "outputs": [],
   "source": [
    "import json"
   ]
  },
  {
   "cell_type": "code",
   "execution_count": 0,
   "metadata": {
    "application/vnd.databricks.v1+cell": {
     "cellMetadata": {},
     "inputWidgets": {},
     "nuid": "6e276e2b-723f-4dc0-85e2-3b7e3f6b6f24",
     "showTitle": false,
     "title": ""
    }
   },
   "outputs": [],
   "source": [
    "SUBSCRIPTION_ID = \"TODO\" # fill in\n",
    "RESOURCE_GROUP = \"TODO\" # fill in\n",
    "PURVIEW_NAME = \"TODO\" # fill in\n",
    "SERVICE_PRINCIPAL_NAME = \"TODO\" # fill in"
   ]
  },
  {
   "cell_type": "code",
   "execution_count": 0,
   "metadata": {
    "application/vnd.databricks.v1+cell": {
     "cellMetadata": {},
     "inputWidgets": {},
     "nuid": "db3f5339-77c6-4812-9119-4c6e8673d9d9",
     "showTitle": false,
     "title": ""
    }
   },
   "outputs": [],
   "source": [
    "!az login"
   ]
  },
  {
   "cell_type": "code",
   "execution_count": 0,
   "metadata": {
    "application/vnd.databricks.v1+cell": {
     "cellMetadata": {},
     "inputWidgets": {},
     "nuid": "a17c09bf-a360-4a13-b32b-8f457cd38d75",
     "showTitle": false,
     "title": ""
    }
   },
   "outputs": [],
   "source": [
    "!az account set --subscription {SUBSCRIPTION_ID}"
   ]
  },
  {
   "cell_type": "code",
   "execution_count": 0,
   "metadata": {
    "application/vnd.databricks.v1+cell": {
     "cellMetadata": {},
     "inputWidgets": {},
     "nuid": "b2e92589-b099-4c02-a51f-0480b00c9196",
     "showTitle": false,
     "title": ""
    }
   },
   "outputs": [],
   "source": [
    "# Create service principal to access Purview endpoint\n",
    "sp = !az ad sp create-for-rbac \\\n",
    "    --name \"http://{SERVICE_PRINCIPAL_NAME}\" \\\n",
    "    --role \"Purview Data Curator\" \\\n",
    "    --scopes /subscriptions/{SUBSCRIPTION_ID}/resourceGroups/{RESOURCE_GROUP}/providers/Microsoft.Purview/accounts/{PURVIEW_NAME}"
   ]
  },
  {
   "cell_type": "code",
   "execution_count": 0,
   "metadata": {
    "application/vnd.databricks.v1+cell": {
     "cellMetadata": {},
     "inputWidgets": {},
     "nuid": "73c51ebd-a812-489d-a48c-63ad63412090",
     "showTitle": false,
     "title": ""
    }
   },
   "outputs": [],
   "source": [
    "sp_json_string = ''.join(sp[-7:])\n",
    "sp = json.loads(sp_json_string)"
   ]
  },
  {
   "cell_type": "code",
   "execution_count": 0,
   "metadata": {
    "application/vnd.databricks.v1+cell": {
     "cellMetadata": {},
     "inputWidgets": {},
     "nuid": "7dd8de19-82ae-45db-a352-be640481a036",
     "showTitle": false,
     "title": ""
    }
   },
   "outputs": [],
   "source": [
    "# Install Atlas Python client (https://github.com/wjohnson/pyapacheatlas)\n",
    "!pip install pyapacheatlas"
   ]
  },
  {
   "cell_type": "code",
   "execution_count": 0,
   "metadata": {
    "application/vnd.databricks.v1+cell": {
     "cellMetadata": {},
     "inputWidgets": {},
     "nuid": "4cc80ad4-d6bc-44c1-9265-9a4054a6cc27",
     "showTitle": false,
     "title": ""
    }
   },
   "outputs": [],
   "source": [
    "from pyapacheatlas.auth import ServicePrincipalAuthentication\n",
    "from pyapacheatlas.core import PurviewClient\n",
    "\n",
    "\n",
    "oauth = ServicePrincipalAuthentication(\n",
    "    tenant_id=os.environ.get(\"TENANT_ID\", sp['tenant']),\n",
    "    client_id=os.environ.get(\"CLIENT_ID\", sp['appId']),\n",
    "    client_secret=os.environ.get(\"CLIENT_SECRET\", sp['password'])\n",
    ")\n"
   ]
  },
  {
   "cell_type": "code",
   "execution_count": 0,
   "metadata": {
    "application/vnd.databricks.v1+cell": {
     "cellMetadata": {},
     "inputWidgets": {},
     "nuid": "003ac899-1622-4499-86ae-24048fa6529e",
     "showTitle": false,
     "title": ""
    }
   },
   "outputs": [],
   "source": [
    "# Instantiate PurviewClient \n",
    "client = PurviewClient(\n",
    "    account_name = os.environ.get(\"PURVIEW_NAME\", PURVIEW_NAME),\n",
    "    authentication=oauth\n",
    ")"
   ]
  },
  {
   "cell_type": "code",
   "execution_count": 0,
   "metadata": {
    "application/vnd.databricks.v1+cell": {
     "cellMetadata": {},
     "inputWidgets": {},
     "nuid": "3478681c-f788-43ae-a315-0a0b37b0e6f8",
     "showTitle": false,
     "title": ""
    }
   },
   "outputs": [],
   "source": [
    "from pyapacheatlas.core import AtlasEntity\n",
    "\n",
    "\n",
    "# Create an entity\n",
    "# You must provide a name, typeName, qualified_name, and guid\n",
    "# the guid must be a negative number and unique in your batch\n",
    "# being uploaded.\n",
    "\n",
    "input01_qn = \"pyapacheatlas://demoinputclassification01\"\n",
    "input02_qn = \"pyapacheatlas://demoinputclassification02\"\n",
    "output01_qn = \"pyapacheatlas://demooutput01\"\n",
    "dataset_type_name = \"DataSet\"\n",
    "\n",
    "input01 = AtlasEntity(\n",
    "    name=\"input01\",\n",
    "    typeName=dataset_type_name,\n",
    "    qualified_name=input01_qn,\n",
    "    guid=\"-100\"\n",
    ")\n",
    "input02 = AtlasEntity(\n",
    "    name=\"input02\",\n",
    "    typeName=dataset_type_name,\n",
    "    qualified_name=input02_qn,\n",
    "    guid=\"-101\"\n",
    ")\n",
    "output01 = AtlasEntity(\n",
    "    name=\"output01\",\n",
    "    typeName=dataset_type_name,\n",
    "    qualified_name=output01_qn,\n",
    "    guid=\"-102\"\n",
    ")\n",
    "\n",
    "results = client.upload_entities(\n",
    "    batch=[input01, input02, output01]\n",
    ")"
   ]
  },
  {
   "cell_type": "markdown",
   "metadata": {
    "application/vnd.databricks.v1+cell": {
     "cellMetadata": {},
     "inputWidgets": {},
     "nuid": "82f594b1-392f-4927-b303-c65b08cc0790",
     "showTitle": false,
     "title": ""
    }
   },
   "source": [
    "After the AtlasEntities are created, you will be able to see these assets within the Purview portal.\n",
    "\n",
    "![Azure Purview Browse Asset Page](./img/purview_browse_asset.png)\n",
    "\n",
    "![Azure Purview Custom Asset Page](./img/purview_custom_assets.png)"
   ]
  },
  {
   "cell_type": "code",
   "execution_count": 0,
   "metadata": {
    "application/vnd.databricks.v1+cell": {
     "cellMetadata": {},
     "inputWidgets": {},
     "nuid": "a6e81a36-fdfe-44fa-8b5a-d0a315b349a8",
     "showTitle": false,
     "title": ""
    }
   },
   "outputs": [],
   "source": [
    "# Get the Guids for us to work with\n",
    "guids = [v for v in results[\"guidAssignments\"].values()]\n",
    "\n",
    "guids"
   ]
  },
  {
   "cell_type": "code",
   "execution_count": 0,
   "metadata": {
    "application/vnd.databricks.v1+cell": {
     "cellMetadata": {},
     "inputWidgets": {},
     "nuid": "7e4bf124-54d5-461f-9c8c-c60268170aaf",
     "showTitle": false,
     "title": ""
    }
   },
   "outputs": [],
   "source": [
    "from pyapacheatlas.core import AtlasClassification\n",
    "\n",
    "\n",
    "# Classify one entity with multiple classifications\n",
    "print(f\"Adding multiple classifications to guid: {guids[0]}\")\n",
    "one_entity_multi_class = client.classify_entity(\n",
    "    guid=guids[0], \n",
    "    classifications=[\n",
    "        AtlasClassification(\"MICROSOFT.PERSONAL.DATE_OF_BIRTH\"),\n",
    "        AtlasClassification(\"MICROSOFT.PERSONAL.NAME\")\n",
    "        ],\n",
    "    force_update=True\n",
    ")\n",
    "print(json.dumps(one_entity_multi_class, indent=2))"
   ]
  },
  {
   "cell_type": "code",
   "execution_count": 0,
   "metadata": {
    "application/vnd.databricks.v1+cell": {
     "cellMetadata": {},
     "inputWidgets": {},
     "nuid": "ed986271-405a-4b39-b8a6-0e87464424cd",
     "showTitle": false,
     "title": ""
    }
   },
   "outputs": [],
   "source": [
    "from pyapacheatlas.core import AtlasClassification\n",
    "from pyapacheatlas.core.util import AtlasException\n",
    "\n",
    "\n",
    "# Classify Multiple Entities with one classification\n",
    "try:\n",
    "    multi_entity_single_class = client.classify_bulk_entities(\n",
    "        entityGuids=guids,\n",
    "        classification=AtlasClassification(\"MICROSOFT.PERSONAL.IPADDRESS\")\n",
    "    )\n",
    "    print(json.dumps(multi_entity_single_class, indent=2))\n",
    "except AtlasException as e:\n",
    "    print(\"One or more entities had the existing classification, so skipping it.\")\n",
    "    print(e)"
   ]
  },
  {
   "cell_type": "markdown",
   "metadata": {
    "application/vnd.databricks.v1+cell": {
     "cellMetadata": {},
     "inputWidgets": {},
     "nuid": "396c937a-cdce-4801-a0f2-8bfb4dc345b5",
     "showTitle": false,
     "title": ""
    }
   },
   "source": [
    "After entities are classified, you can navigate to individual asset and explore its classifications within the Purview portal. \n",
    "\n",
    "![Azure Purview Classification](./img/purview_classification.png)"
   ]
  },
  {
   "cell_type": "code",
   "execution_count": 0,
   "metadata": {
    "application/vnd.databricks.v1+cell": {
     "cellMetadata": {},
     "inputWidgets": {},
     "nuid": "586c0562-9657-43f0-8d1d-aa07df549273",
     "showTitle": false,
     "title": ""
    }
   },
   "outputs": [],
   "source": [
    "from pyapacheatlas.core import AtlasProcess\n",
    "\n",
    "\n",
    "# The Atlas Process is the lineage component that links the two\n",
    "# entities together. The inputs and outputs need to be the \"header\"\n",
    "# version of the atlas entities, so specify minimum = True to\n",
    "# return just guid, qualifiedName, and typeName.\n",
    "\n",
    "process_qn = \"pyapacheatlas://democustomprocess\"\n",
    "process_type_name = \"Process\"\n",
    "\n",
    "process = AtlasProcess(\n",
    "    name=\"sample process\",\n",
    "    typeName=process_type_name,\n",
    "    qualified_name=process_qn,\n",
    "    inputs=[input01, input02],\n",
    "    outputs=[output01],\n",
    "    guid=-103\n",
    ")\n",
    "\n",
    "# Convert the individual entities into json before uploading.\n",
    "results = client.upload_entities(\n",
    "    batch=[input01, input02, output01, process]\n",
    ")\n",
    "\n",
    "print(json.dumps(results, indent=2))"
   ]
  },
  {
   "cell_type": "markdown",
   "metadata": {
    "application/vnd.databricks.v1+cell": {
     "cellMetadata": {},
     "inputWidgets": {},
     "nuid": "b93bcdbf-2957-48e5-8ebc-2c187840f6d7",
     "showTitle": false,
     "title": ""
    }
   },
   "source": [
    "After the AtlasProcess is created, you can navigate to the `sample process` asset and explore its lineage.\n",
    "\n",
    "![Azure Purview Lineage](./img/purview_lineage.png)"
   ]
  },
  {
   "cell_type": "markdown",
   "metadata": {
    "application/vnd.databricks.v1+cell": {
     "cellMetadata": {},
     "inputWidgets": {},
     "nuid": "0e748b24-2df5-4408-b3b1-3d1a1242a036",
     "showTitle": false,
     "title": ""
    }
   },
   "source": [
    "# Clean Up"
   ]
  },
  {
   "cell_type": "code",
   "execution_count": 0,
   "metadata": {
    "application/vnd.databricks.v1+cell": {
     "cellMetadata": {},
     "inputWidgets": {},
     "nuid": "723363c0-d43f-4df0-8446-2658ba354a03",
     "showTitle": false,
     "title": ""
    }
   },
   "outputs": [],
   "source": [
    "# Deletes all entities\n",
    "\n",
    "guid_assignment = results['guidAssignments']\n",
    "\n",
    "for local_guid in guid_assignment:\n",
    "    guid = guid_assignment[local_guid]\n",
    "    _ = client.delete_entity(guid)"
   ]
  }
 ],
 "metadata": {
  "application/vnd.databricks.v1+notebook": {
   "dashboards": [],
   "language": "python",
   "notebookMetadata": {},
   "notebookName": "Azure_Purview_Entity_Classification_Lineage",
   "widgets": {}
  },
  "kernelspec": {
   "display_name": "Python 3",
   "language": "python",
   "name": "python3"
  },
  "language_info": {
   "codemirror_mode": {
    "name": "ipython",
    "version": 3
   },
   "file_extension": ".py",
   "mimetype": "text/x-python",
   "name": "python",
   "nbconvert_exporter": "python",
   "pygments_lexer": "ipython3",
   "version": "3.6.9"
  }
 },
 "nbformat": 4,
 "nbformat_minor": 0
}
