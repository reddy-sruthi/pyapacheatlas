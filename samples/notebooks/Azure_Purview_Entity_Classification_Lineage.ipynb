{
 "cells": [
  {
   "cell_type": "markdown",
   "metadata": {
    "application/vnd.databricks.v1+cell": {
     "cellMetadata": {},
     "inputWidgets": {},
     "nuid": "8055e9f4-416e-4f1b-9807-585a7d2d8dcc",
     "showTitle": false,
     "title": ""
    }
   },
   "source": [
    "# Overview\n",
    "\n",
    "In this notebook, we will explore how to create Azure Purview entity, classication, and lineage using Atlas APIs.\n",
    "\n",
    "## Pre-requsites\n",
    "\n",
    "- [Python 3](https://www.python.org/downloads/)\n",
    "- [Az CLI](https://docs.microsoft.com/en-us/cli/azure/install-azure-cli)"
   ]
  },
  {
   "cell_type": "code",
   "execution_count": 0,
   "metadata": {
    "application/vnd.databricks.v1+cell": {
     "cellMetadata": {},
     "inputWidgets": {},
     "nuid": "78b9241f-624c-48df-8679-6ba61337957c",
     "showTitle": false,
     "title": ""
    }
   },
   "outputs": [],
   "source": [
    "import json"
   ]
  },
  {
   "cell_type": "code",
   "execution_count": 0,
   "metadata": {
    "application/vnd.databricks.v1+cell": {
     "cellMetadata": {},
     "inputWidgets": {},
     "nuid": "382fe37b-717f-403e-ae88-701e49522da0",
     "showTitle": false,
     "title": ""
    }
   },
   "outputs": [],
   "source": [
    "SUBSCRIPTION_ID = \"TODO\" # fill in\n",
    "RESOURCE_GROUP = \"TODO\" # fill in\n",
    "PURVIEW_NAME = \"TODO\" # fill in\n",
    "SERVICE_PRINCIPAL_NAME = \"TODO\" # fill in"
   ]
  },
  {
   "cell_type": "code",
   "execution_count": 0,
   "metadata": {
    "application/vnd.databricks.v1+cell": {
     "cellMetadata": {},
     "inputWidgets": {},
     "nuid": "3dd02f64-8e17-4b70-aa4b-3275906a95a1",
     "showTitle": false,
     "title": ""
    }
   },
   "outputs": [],
   "source": [
    "!az login"
   ]
  },
  {
   "cell_type": "code",
   "execution_count": 0,
   "metadata": {
    "application/vnd.databricks.v1+cell": {
     "cellMetadata": {},
     "inputWidgets": {},
     "nuid": "8a886d75-022a-4cb6-a317-600edbd44742",
     "showTitle": false,
     "title": ""
    }
   },
   "outputs": [],
   "source": [
    "!az account set --subscription {SUBSCRIPTION_ID}"
   ]
  },
  {
   "cell_type": "code",
   "execution_count": 0,
   "metadata": {
    "application/vnd.databricks.v1+cell": {
     "cellMetadata": {},
     "inputWidgets": {},
     "nuid": "aea828be-25e4-47c2-a57a-cc8fd8845d39",
     "showTitle": false,
     "title": ""
    }
   },
   "outputs": [],
   "source": [
    "# Create service principal to access Purview endpoint\n",
    "sp = !az ad sp create-for-rbac \\\n",
    "    --name \"http://{SERVICE_PRINCIPAL_NAME}\" \\\n",
    "    --role \"Purview Data Curator\" \\\n",
    "    --scopes /subscriptions/{SUBSCRIPTION_ID}/resourceGroups/{RESOURCE_GROUP}/providers/Microsoft.Purview/accounts/{PURVIEW_NAME}"
   ]
  },
  {
   "cell_type": "code",
   "execution_count": 0,
   "metadata": {
    "application/vnd.databricks.v1+cell": {
     "cellMetadata": {},
     "inputWidgets": {},
     "nuid": "3cdeffaa-b4ca-40dd-b575-1dd3fb9b3aef",
     "showTitle": false,
     "title": ""
    }
   },
   "outputs": [],
   "source": [
    "sp_json_string = ''.join(sp[-7:])\n",
    "sp = json.loads(sp_json_string)"
   ]
  },
  {
   "cell_type": "code",
   "execution_count": 0,
   "metadata": {
    "application/vnd.databricks.v1+cell": {
     "cellMetadata": {},
     "inputWidgets": {},
     "nuid": "f3bbe395-7a2f-4dd0-80a0-61c910b864ff",
     "showTitle": false,
     "title": ""
    }
   },
   "outputs": [],
   "source": [
    "# Install Atlas Python client (https://github.com/wjohnson/pyapacheatlas)\n",
    "!pip install pyapacheatlas"
   ]
  },
  {
   "cell_type": "code",
   "execution_count": 0,
   "metadata": {
    "application/vnd.databricks.v1+cell": {
     "cellMetadata": {},
     "inputWidgets": {},
     "nuid": "52e23cd8-0e63-4c44-9017-d277e3064ef6",
     "showTitle": false,
     "title": ""
    }
   },
   "outputs": [],
   "source": [
    "from pyapacheatlas.auth import ServicePrincipalAuthentication\n",
    "from pyapacheatlas.core import PurviewClient\n",
    "\n",
    "\n",
    "oauth = ServicePrincipalAuthentication(\n",
    "    tenant_id=os.environ.get(\"TENANT_ID\", sp['tenant']),\n",
    "    client_id=os.environ.get(\"CLIENT_ID\", sp['appId']),\n",
    "    client_secret=os.environ.get(\"CLIENT_SECRET\", sp['password'])\n",
    ")\n"
   ]
  },
  {
   "cell_type": "code",
   "execution_count": 0,
   "metadata": {
    "application/vnd.databricks.v1+cell": {
     "cellMetadata": {},
     "inputWidgets": {},
     "nuid": "e3c15894-7641-46ca-98e6-164f29a71151",
     "showTitle": false,
     "title": ""
    }
   },
   "outputs": [],
   "source": [
    "# Instantiate PurviewClient \n",
    "client = PurviewClient(\n",
    "    account_name = os.environ.get(\"PURVIEW_NAME\", PURVIEW_NAME),\n",
    "    authentication=oauth\n",
    ")"
   ]
  },
  {
   "cell_type": "code",
   "execution_count": 0,
   "metadata": {
    "application/vnd.databricks.v1+cell": {
     "cellMetadata": {},
     "inputWidgets": {},
     "nuid": "8b76d0fd-6c8e-4484-be3a-6d5b4c03f4f5",
     "showTitle": false,
     "title": ""
    }
   },
   "outputs": [],
   "source": [
    "from pyapacheatlas.core import AtlasEntity\n",
    "\n",
    "\n",
    "# Create an entity\n",
    "# You must provide a name, typeName, qualified_name, and guid\n",
    "# the guid must be a negative number and unique in your batch\n",
    "# being uploaded.\n",
    "\n",
    "input01_qn = \"pyapacheatlas://demoinputclassification01\"\n",
    "input02_qn = \"pyapacheatlas://demoinputclassification02\"\n",
    "output01_qn = \"pyapacheatlas://demooutput01\"\n",
    "dataset_type_name = \"DataSet\"\n",
    "\n",
    "input01 = AtlasEntity(\n",
    "    name=\"input01\",\n",
    "    typeName=dataset_type_name,\n",
    "    qualified_name=input01_qn,\n",
    "    guid=\"-100\"\n",
    ")\n",
    "input02 = AtlasEntity(\n",
    "    name=\"input02\",\n",
    "    typeName=dataset_type_name,\n",
    "    qualified_name=input02_qn,\n",
    "    guid=\"-101\"\n",
    ")\n",
    "output01 = AtlasEntity(\n",
    "    name=\"output01\",\n",
    "    typeName=dataset_type_name,\n",
    "    qualified_name=output01_qn,\n",
    "    guid=\"-102\"\n",
    ")\n",
    "\n",
    "results = client.upload_entities(\n",
    "    batch=[input01, input02, output01]\n",
    ")"
   ]
  },
  {
   "cell_type": "markdown",
   "metadata": {
    "application/vnd.databricks.v1+cell": {
     "cellMetadata": {},
     "inputWidgets": {},
     "nuid": "796bf8c1-8481-40c4-b44f-b3ff31876c41",
     "showTitle": false,
     "title": ""
    }
   },
   "source": [
    "After the AtlasEntities are created, you will be able to see these assets within the Purview portal.\n",
    "\n",
    "![Azure Purview Browse Asset Page](./img/purview_browse_asset.png)\n",
    "\n",
    "![Azure Purview Custom Asset Page](./img/purview_custom_assets.png)"
   ]
  },
  {
   "cell_type": "code",
   "execution_count": 0,
   "metadata": {
    "application/vnd.databricks.v1+cell": {
     "cellMetadata": {},
     "inputWidgets": {},
     "nuid": "6a279227-630d-46d3-bacc-47f326f117e8",
     "showTitle": false,
     "title": ""
    }
   },
   "outputs": [],
   "source": [
    "# Get the Guids for us to work with\n",
    "guids = [v for v in results[\"guidAssignments\"].values()]\n",
    "\n",
    "guids"
   ]
  },
  {
   "cell_type": "code",
   "execution_count": 0,
   "metadata": {
    "application/vnd.databricks.v1+cell": {
     "cellMetadata": {},
     "inputWidgets": {},
     "nuid": "aac4a697-c364-4c7e-9353-68d40407c364",
     "showTitle": false,
     "title": ""
    }
   },
   "outputs": [],
   "source": [
    "from pyapacheatlas.core import AtlasClassification\n",
    "\n",
    "\n",
    "# Classify one entity with multiple classifications\n",
    "print(f\"Adding multiple classifications to guid: {guids[0]}\")\n",
    "one_entity_multi_class = client.classify_entity(\n",
    "    guid=guids[0], \n",
    "    classifications=[\n",
    "        AtlasClassification(\"MICROSOFT.PERSONAL.DATE_OF_BIRTH\"),\n",
    "        AtlasClassification(\"MICROSOFT.PERSONAL.NAME\")\n",
    "        ],\n",
    "    force_update=True\n",
    ")\n",
    "print(json.dumps(one_entity_multi_class, indent=2))"
   ]
  },
  {
   "cell_type": "code",
   "execution_count": 0,
   "metadata": {
    "application/vnd.databricks.v1+cell": {
     "cellMetadata": {},
     "inputWidgets": {},
     "nuid": "6779dd0f-01f4-4007-afdc-9698ffe9b2c3",
     "showTitle": false,
     "title": ""
    }
   },
   "outputs": [],
   "source": [
    "from pyapacheatlas.core import AtlasClassification\n",
    "from pyapacheatlas.core.util import AtlasException\n",
    "\n",
    "\n",
    "# Classify Multiple Entities with one classification\n",
    "try:\n",
    "    multi_entity_single_class = client.classify_bulk_entities(\n",
    "        entityGuids=guids,\n",
    "        classification=AtlasClassification(\"MICROSOFT.PERSONAL.IPADDRESS\")\n",
    "    )\n",
    "    print(json.dumps(multi_entity_single_class, indent=2))\n",
    "except AtlasException as e:\n",
    "    print(\"One or more entities had the existing classification, so skipping it.\")\n",
    "    print(e)"
   ]
  },
  {
   "cell_type": "markdown",
   "metadata": {
    "application/vnd.databricks.v1+cell": {
     "cellMetadata": {},
     "inputWidgets": {},
     "nuid": "afa9e1e2-0a31-4f47-9d21-1aaac20f4142",
     "showTitle": false,
     "title": ""
    }
   },
   "source": [
    "After entities are classified, you can navigate to individual asset and explore its classifications within the Purview portal. \n",
    "\n",
    "![Azure Purview Classification](./img/purview_classification.png)"
   ]
  },
  {
   "cell_type": "code",
   "execution_count": 0,
   "metadata": {
    "application/vnd.databricks.v1+cell": {
     "cellMetadata": {},
     "inputWidgets": {},
     "nuid": "fad484e2-2030-4d89-8f4a-6905302f5e8c",
     "showTitle": false,
     "title": ""
    }
   },
   "outputs": [],
   "source": [
    "from pyapacheatlas.core import AtlasProcess\n",
    "\n",
    "\n",
    "# The Atlas Process is the lineage component that links the two\n",
    "# entities together. The inputs and outputs need to be the \"header\"\n",
    "# version of the atlas entities, so specify minimum = True to\n",
    "# return just guid, qualifiedName, and typeName.\n",
    "\n",
    "process_qn = \"pyapacheatlas://democustomprocess\"\n",
    "process_type_name = \"Process\"\n",
    "\n",
    "process = AtlasProcess(\n",
    "    name=\"sample process\",\n",
    "    typeName=process_type_name,\n",
    "    qualified_name=process_qn,\n",
    "    inputs=[input01, input02],\n",
    "    outputs=[output01],\n",
    "    guid=-103\n",
    ")\n",
    "\n",
    "# Convert the individual entities into json before uploading.\n",
    "results = client.upload_entities(\n",
    "    batch=[input01, input02, output01, process]\n",
    ")\n",
    "\n",
    "print(json.dumps(results, indent=2))"
   ]
  },
  {
   "cell_type": "markdown",
   "metadata": {
    "application/vnd.databricks.v1+cell": {
     "cellMetadata": {},
     "inputWidgets": {},
     "nuid": "62179182-b299-47b0-89bd-64b2f37e0ffe",
     "showTitle": false,
     "title": ""
    }
   },
   "source": [
    "After the AtlasProcess is created, you can navigate to the `sample process` asset and explore its lineage.\n",
    "\n",
    "![Azure Purview Lineage](./img/purview_lineage.png)"
   ]
  },
  {
   "cell_type": "markdown",
   "metadata": {
    "application/vnd.databricks.v1+cell": {
     "cellMetadata": {},
     "inputWidgets": {},
     "nuid": "b617d4b7-a891-4f12-a537-ca04f2b2b9ee",
     "showTitle": false,
     "title": ""
    }
   },
   "source": [
    "# Clean Up"
   ]
  },
  {
   "cell_type": "code",
   "execution_count": 0,
   "metadata": {
    "application/vnd.databricks.v1+cell": {
     "cellMetadata": {},
     "inputWidgets": {},
     "nuid": "8c1402e8-0e47-4f53-bb7f-939506e4df43",
     "showTitle": false,
     "title": ""
    }
   },
   "outputs": [],
   "source": [
    "# Deletes all entities\n",
    "\n",
    "guid_assignment = results['guidAssignments']\n",
    "\n",
    "for local_guid in guid_assignment:\n",
    "    guid = guid_assignment[local_guid]\n",
    "    _ = client.delete_entity(guid)"
   ]
  }
 ],
 "metadata": {
  "application/vnd.databricks.v1+notebook": {
   "dashboards": [],
   "language": "python",
   "notebookMetadata": {},
   "notebookName": "Azure_Purview_Entity_Classification_Lineage",
   "widgets": {}
  },
  "kernelspec": {
   "display_name": "Python 3",
   "language": "python",
   "name": "python3"
  },
  "language_info": {
   "codemirror_mode": {
    "name": "ipython",
    "version": 3
   },
   "file_extension": ".py",
   "mimetype": "text/x-python",
   "name": "python",
   "nbconvert_exporter": "python",
   "pygments_lexer": "ipython3",
   "version": "3.6.9"
  }
 },
 "nbformat": 4,
 "nbformat_minor": 0
}
