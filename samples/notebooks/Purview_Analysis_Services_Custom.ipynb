{
 "cells": [
  {
   "cell_type": "markdown",
   "metadata": {
    "application/vnd.databricks.v1+cell": {
     "cellMetadata": {},
     "inputWidgets": {},
     "nuid": "44f975f4-f7fe-4bcb-a596-fe8c2859bf67",
     "showTitle": false,
     "title": ""
    }
   },
   "source": [
    "# Overview\n",
    "---\n",
    "> In this Notebook, we will explore PyApacheAtlas package to work with Apache Atlas API in order to create custom Types, Entities and Relationships. \n",
    "All of that to make **Azure Analysis Services** assets available in Azure Purview.\n",
    "\n",
    "**Scanning of Analysis Services** is the second most voted idea on Microsoft's Feedback forum (<a href=\"https://feedback.azure.com/forums/932437-azure-purview/suggestions/42183862-scanning-of-analysis-services-azure-analysis-serv\"> Scanning AAS Idea</a>), but this feature currently is not in the product's roadmap.\n",
    "Several companies have a large footprint of Analysis Services and they need to keep track of that.\n",
    "\n",
    "This sample will help you to get started on create type structures, create entities and relationship to:\n",
    "- Azure Analysis Services SERVER\n",
    "- Azure Analysis Services MODELS\n",
    "- Azure Analysis Services TABLES\n",
    "- Azure Analysis Services COLUMNS\n",
    "\n",
    "### Prerequisites\n",
    "\n",
    "- [Python 3](https://www.python.org/downloads/)\n",
    "- [Install Atlas Python client](https://github.com/wjohnson/pyapacheatlas)\n",
    "<br>`python -m pip install pyapacheatlas`\n",
    "- [Create and configure a Service Principal to use Purview APIs](https://docs.microsoft.com/en-us/azure/purview/tutorial-using-rest-apis)\n",
    "\n"
   ]
  },
  {
   "cell_type": "code",
   "execution_count": 0,
   "metadata": {
    "application/vnd.databricks.v1+cell": {
     "cellMetadata": {},
     "inputWidgets": {},
     "nuid": "ddd594e5-8d64-46bf-a445-5dd894f949da",
     "showTitle": false,
     "title": ""
    }
   },
   "outputs": [],
   "source": [
    "import json\n",
    "import os\n",
    "from pyapacheatlas.auth import ServicePrincipalAuthentication\n",
    "from pyapacheatlas.core import PurviewClient\n",
    "from pyapacheatlas.core import AtlasEntity, AtlasProcess\n",
    "from pyapacheatlas.core import AtlasAttributeDef, EntityTypeDef, RelationshipTypeDef\n",
    "from pyapacheatlas.core.util import GuidTracker\n",
    "from pyapacheatlas.readers import ExcelReader\n",
    "from pyapacheatlas.scaffolding import column_lineage_scaffold\n",
    "from pyapacheatlas.readers import ExcelConfiguration, ExcelReader"
   ]
  },
  {
   "cell_type": "markdown",
   "metadata": {
    "application/vnd.databricks.v1+cell": {
     "cellMetadata": {},
     "inputWidgets": {},
     "nuid": "d05ee825-a92a-4387-af4a-9bc944997570",
     "showTitle": false,
     "title": ""
    }
   },
   "source": [
    "#### Create a Purview Client Connection\n",
    "> Provides connectivity to your Atlas / Azure Purview service."
   ]
  },
  {
   "cell_type": "code",
   "execution_count": 0,
   "metadata": {
    "application/vnd.databricks.v1+cell": {
     "cellMetadata": {},
     "inputWidgets": {},
     "nuid": "bec29ed3-507a-4478-b6a5-ce551a6179fc",
     "showTitle": false,
     "title": ""
    }
   },
   "outputs": [],
   "source": [
    "auth = ServicePrincipalAuthentication(\n",
    "    tenant_id = \"Your-Tenant-ID\", # fill in\n",
    "    client_id = \"Your-Service-Principal-Client_ID\", # fill in\n",
    "    client_secret = \"Your-Service-Principal-Secret\" # fill in\n",
    ")\n",
    "\n",
    "# Create a client to connect to your service.\n",
    "client = PurviewClient(\n",
    "    account_name = \"Your-Purview-Account-Name\", # fill in\n",
    "    authentication = auth\n",
    ")"
   ]
  },
  {
   "cell_type": "markdown",
   "metadata": {
    "application/vnd.databricks.v1+cell": {
     "cellMetadata": {},
     "inputWidgets": {},
     "nuid": "59cf613f-7f9a-444c-a752-7b8da66e328e",
     "showTitle": false,
     "title": ""
    }
   },
   "source": [
    "#### Create a custom entity type that represents the Azure Analysis Services Server\n",
    "> What are the attributes that represents Analysis Services **Server**? <br>\n",
    "- Azure Tier\n",
    "- Subscription\n",
    "- Resource Group\n",
    "- Location\n",
    "<br> You can have many others attribute that make sense for you, this is completelly customizabe.\n",
    "<br> PS: superType is configured as \"azure_resource\" because this options is beeing based on Azure SQL Server superType. \n",
    "    "
   ]
  },
  {
   "cell_type": "code",
   "execution_count": 0,
   "metadata": {
    "application/vnd.databricks.v1+cell": {
     "cellMetadata": {},
     "inputWidgets": {},
     "nuid": "9796f359-3690-498f-a78d-055faca5c9ea",
     "showTitle": false,
     "title": ""
    }
   },
   "outputs": [],
   "source": [
    "custom_type = EntityTypeDef(\n",
    "    name=\"azure_analysis_services_server\",\n",
    "    superTypes=[\"azure_resource\"],\n",
    "    description=\"azure_analysis_services_server\",\n",
    "    typeVersion=\"1.0\",\n",
    ")\n",
    "\n",
    "#Attributes that represents the server\n",
    "custom_type.addAttributeDef(\n",
    "    AtlasAttributeDef(name=\"tier\", typeName=\"string\", isOptional=False),\n",
    "    AtlasAttributeDef(name=\"subscription\", typeName=\"string\", isOptional=False),\n",
    "    AtlasAttributeDef(name=\"resource-group\", typeName=\"string\", isOptional=False),\n",
    "    AtlasAttributeDef(name=\"location\", typeName=\"string\", isOptional=False)\n",
    ")\n",
    "\n",
    "#Upload that custom type with the client\n",
    "client.upload_typedefs(\n",
    "    entityDefs=[custom_type],\n",
    "    force_update=True\n",
    ")"
   ]
  },
  {
   "cell_type": "markdown",
   "metadata": {
    "application/vnd.databricks.v1+cell": {
     "cellMetadata": {},
     "inputWidgets": {},
     "nuid": "45e04e6d-9244-4796-af5f-2a5140c02dba",
     "showTitle": false,
     "title": ""
    }
   },
   "source": [
    "#### Create a custom entity type that represents the Azure Analysis Services Model\n",
    "> What are the attributes that represents Analysis Services **Model**? <br>\n",
    "- Database Name\n",
    "- Compatibility Level\n",
    "<br> You can have many others attribute that make sense for you, this is completelly customizabe.\n",
    "<br> PS: superType is configured as \"Asset\" because this options is beeing based on Azure SQL Schema superType. "
   ]
  },
  {
   "cell_type": "code",
   "execution_count": 0,
   "metadata": {
    "application/vnd.databricks.v1+cell": {
     "cellMetadata": {},
     "inputWidgets": {},
     "nuid": "5b9f7669-0759-4337-868d-dca91ad5fa25",
     "showTitle": false,
     "title": ""
    }
   },
   "outputs": [],
   "source": [
    "custom_type = EntityTypeDef(\n",
    "    name=\"azure_analysis_services_model\",\n",
    "    superTypes=[\"Asset\"],\n",
    "    description=\"azure_analysis_services_model\",\n",
    "    typeVersion=\"1.0\",\n",
    "    serviceType=\"Azure Analysis Services Model\",\n",
    ")\n",
    "\n",
    "#Attributes that represents the model\n",
    "custom_type.addAttributeDef(\n",
    "    AtlasAttributeDef(name=\"database-name\", typeName=\"string\", isOptional=False),\n",
    "    AtlasAttributeDef(name=\"compatibility-level\", typeName=\"int\", isOptional=False)\n",
    ")\n",
    "\n",
    "#Upload that custom type with the client\n",
    "client.upload_typedefs(\n",
    "    entityDefs=[custom_type],\n",
    "    force_update=True\n",
    ")"
   ]
  },
  {
   "cell_type": "markdown",
   "metadata": {
    "application/vnd.databricks.v1+cell": {
     "cellMetadata": {},
     "inputWidgets": {},
     "nuid": "5a26c368-659c-467e-97b0-f444bb4f90c0",
     "showTitle": false,
     "title": ""
    }
   },
   "source": [
    "#### Create a custom entity type that represents the Azure Analysis Services Model Table\n",
    "> What are the attributes that represents Analysis Services Model **Table**? <br>\n",
    "- Table Type \n",
    "- Query\n",
    "<br> You can have many others attribute that make sense for you, this is completelly customizabe.\n",
    "<br> PS: superType is configured as \"DataSet\" because this options is beeing based on Azure SQL Table superType. "
   ]
  },
  {
   "cell_type": "code",
   "execution_count": 0,
   "metadata": {
    "application/vnd.databricks.v1+cell": {
     "cellMetadata": {},
     "inputWidgets": {},
     "nuid": "5a14556e-8128-436c-8075-c763eff71228",
     "showTitle": false,
     "title": ""
    }
   },
   "outputs": [],
   "source": [
    "custom_type = EntityTypeDef(\n",
    "    name=\"azure_analysis_services_table\",\n",
    "    superTypes=[\"DataSet\"],\n",
    "    description=\"azure_analysis_services_table\",\n",
    "    typeVersion=\"1.0\",\n",
    "    serviceType=\"Azure Analysis Services Model\",\n",
    ")\n",
    "\n",
    "#Attributes that represents the model table\n",
    "custom_type.addAttributeDef(\n",
    "    AtlasAttributeDef(name=\"tableType\", typeName=\"string\", isOptional=False),\n",
    "    AtlasAttributeDef(name=\"query\", typeName=\"string\", isOptional=False)\n",
    ")\n",
    "\n",
    "client.upload_typedefs(\n",
    "    entityDefs=[custom_type],\n",
    "    force_update=True\n",
    ")"
   ]
  },
  {
   "cell_type": "markdown",
   "metadata": {
    "application/vnd.databricks.v1+cell": {
     "cellMetadata": {},
     "inputWidgets": {},
     "nuid": "9cdc9279-3d6b-46a2-b4d6-b4e4418fdde9",
     "showTitle": false,
     "title": ""
    }
   },
   "source": [
    "#### Create a custom entity type that represents the Azure Analysis Services Model Table Column\n",
    "> What are the attributes that represents Analysis Services Model Table **Column**? <br>\n",
    "- Data Type\n",
    "- isHidden\n",
    "- isKey\n",
    "- Column Type\n",
    "<br> You can have many others attribute that make sense for you, this is completelly customizabe.\n",
    "<br> PS: superType is configured as \"DataSet\" because this options is beeing based on Azure SQL Cloumn superType. "
   ]
  },
  {
   "cell_type": "code",
   "execution_count": 0,
   "metadata": {
    "application/vnd.databricks.v1+cell": {
     "cellMetadata": {},
     "inputWidgets": {},
     "nuid": "d7123e10-fcb1-4808-bfc8-1cd1dde0e868",
     "showTitle": false,
     "title": ""
    }
   },
   "outputs": [],
   "source": [
    "custom_type = EntityTypeDef(\n",
    "    name=\"azure_analysis_services_column\",\n",
    "    superTypes=[\"DataSet\"],\n",
    "    description=\"azure_analysis_services_column\",\n",
    "    typeVersion=\"1.0\",\n",
    "    serviceType=\"Azure Analysis Services Model\",\n",
    ")\n",
    "\n",
    "#Attributes that represents the model column\n",
    "custom_type.addAttributeDef(\n",
    "    AtlasAttributeDef(name=\"data_type\", typeName=\"string\", isOptional=False),\n",
    "    AtlasAttributeDef(name=\"isHidden\", typeName=\"string\", isOptional=False),\n",
    "    AtlasAttributeDef(name=\"isKey\", typeName=\"string\", isOptional=False),\n",
    "    AtlasAttributeDef(name=\"columnType\", typeName=\"string\", isOptional=False)\n",
    ")\n",
    "\n",
    "client.upload_typedefs(\n",
    "    entityDefs=[custom_type],\n",
    "    force_update=True\n",
    ")"
   ]
  },
  {
   "cell_type": "markdown",
   "metadata": {
    "application/vnd.databricks.v1+cell": {
     "cellMetadata": {},
     "inputWidgets": {},
     "nuid": "e27a1f32-d06f-479f-a755-e1440889918f",
     "showTitle": false,
     "title": ""
    }
   },
   "source": [
    "#### Create a custom type that represents the Relationship between AAS Servers and Models"
   ]
  },
  {
   "cell_type": "code",
   "execution_count": 0,
   "metadata": {
    "application/vnd.databricks.v1+cell": {
     "cellMetadata": {},
     "inputWidgets": {},
     "nuid": "04c1b573-3474-4a0a-b7ab-d1aee44193d6",
     "showTitle": false,
     "title": ""
    },
    "scrolled": true
   },
   "outputs": [],
   "source": [
    "rd = RelationshipTypeDef(\n",
    "    name=\"azure_analysis_services_server_models\",\n",
    "    attributeDefs=[],\n",
    "    relationshipCategory=\"COMPOSITION\", # Means the child can't exist  without the parent\n",
    "    endDef1={ # endDef1 decribes what the parent will have as an attribute\n",
    "        \"type\":\"azure_analysis_services_server\", # Type of the parent\n",
    "        \"name\":\"models\", # What the parent will have\n",
    "        \"isContainer\": True,\n",
    "        \"cardinality\":\"SET\", # This is related to the cardinality, in this case the parent Server will have a SET of Models.\n",
    "        \"isLegacyAttribute\":False\n",
    "    },\n",
    "    endDef2={ # endDef2 decribes what the child will have as an attribute\n",
    "        \"type\":\"azure_analysis_services_model\", # Type of the child\n",
    "        \"name\":\"server\", # What the child will have\n",
    "        \"isContainer\":False,\n",
    "        \"cardinality\":\"SINGLE\",\n",
    "        \"isLegacyAttribute\":False\n",
    "    }\n",
    ")\n",
    "client.upload_typedefs(relationshipDefs=[rd])\n"
   ]
  },
  {
   "cell_type": "markdown",
   "metadata": {
    "application/vnd.databricks.v1+cell": {
     "cellMetadata": {},
     "inputWidgets": {},
     "nuid": "ad6f0a60-dfbd-42a0-9a1d-4b517e912a5c",
     "showTitle": false,
     "title": ""
    }
   },
   "source": [
    "#### Create a custom type that represents the Relationship between AAS Models and Tables"
   ]
  },
  {
   "cell_type": "code",
   "execution_count": 0,
   "metadata": {
    "application/vnd.databricks.v1+cell": {
     "cellMetadata": {},
     "inputWidgets": {},
     "nuid": "7f30c85b-33ff-4681-956e-d0376a1e7a9a",
     "showTitle": false,
     "title": ""
    }
   },
   "outputs": [],
   "source": [
    "rd = RelationshipTypeDef(\n",
    "    name=\"azure_analysis_services_model_tables\",\n",
    "    attributeDefs=[],\n",
    "    relationshipCategory=\"COMPOSITION\",\n",
    "    endDef1={\n",
    "        \"type\":\"azure_analysis_services_model\",\n",
    "        \"name\":\"tables\",\n",
    "        \"isContainer\":True,\n",
    "        \"cardinality\":\"SET\",\n",
    "        \"isLegacyAttribute\":False\n",
    "    },\n",
    "    endDef2={\n",
    "        \"type\":\"azure_analysis_services_table\",\n",
    "        \"name\":\"model\",\n",
    "        \"isContainer\":False,\n",
    "        \"cardinality\":\"SINGLE\",\n",
    "        \"isLegacyAttribute\":False\n",
    "    }\n",
    ")\n",
    "client.upload_typedefs(relationshipDefs=[rd])"
   ]
  },
  {
   "cell_type": "markdown",
   "metadata": {
    "application/vnd.databricks.v1+cell": {
     "cellMetadata": {},
     "inputWidgets": {},
     "nuid": "854c6dd3-534f-4650-8514-7b5b557223a8",
     "showTitle": false,
     "title": ""
    }
   },
   "source": [
    "#### Create a custom type that represents the Relationship between AAS Tables and Columns"
   ]
  },
  {
   "cell_type": "code",
   "execution_count": 0,
   "metadata": {
    "application/vnd.databricks.v1+cell": {
     "cellMetadata": {},
     "inputWidgets": {},
     "nuid": "985d845e-087a-4643-9e3d-2c9c29a1a8e1",
     "showTitle": false,
     "title": ""
    }
   },
   "outputs": [],
   "source": [
    "rd = RelationshipTypeDef(\n",
    "    name=\"azure_analysis_services_table_columns\",\n",
    "    attributeDefs=[],\n",
    "    relationshipCategory=\"COMPOSITION\",\n",
    "    endDef1={\n",
    "        \"type\":\"azure_analysis_services_table\",\n",
    "        \"name\":\"columns\",\n",
    "        \"isContainer\":True,\n",
    "        \"cardinality\":\"SET\",\n",
    "        \"isLegacyAttribute\":False\n",
    "    },\n",
    "    endDef2={\n",
    "        \"type\":\"azure_analysis_services_column\",\n",
    "        \"name\":\"table\",\n",
    "        \"isContainer\":False,\n",
    "        \"cardinality\":\"SINGLE\",\n",
    "        \"isLegacyAttribute\":False\n",
    "    }\n",
    ")\n",
    "client.upload_typedefs(relationshipDefs=[rd])"
   ]
  },
  {
   "cell_type": "markdown",
   "metadata": {
    "application/vnd.databricks.v1+cell": {
     "cellMetadata": {},
     "inputWidgets": {},
     "nuid": "55eef3dd-0c44-4a4d-be00-e9a03d9fc13a",
     "showTitle": false,
     "title": ""
    }
   },
   "source": [
    "#### Create an Entity (AAS Server) based on that EntityTypeDef that was created before"
   ]
  },
  {
   "cell_type": "code",
   "execution_count": 0,
   "metadata": {
    "application/vnd.databricks.v1+cell": {
     "cellMetadata": {},
     "inputWidgets": {},
     "nuid": "1a0cdda2-ab19-4a57-91d9-e09f1ee921c3",
     "showTitle": false,
     "title": ""
    }
   },
   "outputs": [],
   "source": [
    "gt = GuidTracker() # Instantiate GuidTracker to manage guid creation\n",
    "serverGuid = gt.get_guid()\n",
    "\n",
    "#Create a new (AAS Server) entity\n",
    "ae = AtlasEntity(\n",
    "    name=\"AASHOMSERVER\",\n",
    "    typeName=\"azure_analysis_services_server\",\n",
    "    qualified_name=\"asazure://exsaaseastus2.asazure.windows.net/aashomserver\",# AAS Server name obtained on Azure Portal\n",
    "    guid=serverGuid,\n",
    "    attributes={\"tier\":\"D5\", \"subscription\":\"GProd\", \"resource-group\":\"USAZU1VRES302\", \"location\":\"EAST US 2\"}\n",
    ")\n",
    "# Upload the new entity\n",
    "uploadEntity = client.upload_entities(batch=[ae])"
   ]
  },
  {
   "cell_type": "markdown",
   "metadata": {
    "application/vnd.databricks.v1+cell": {
     "cellMetadata": {},
     "inputWidgets": {},
     "nuid": "3d76e84d-eda5-4312-a52a-fdeba708b507",
     "showTitle": false,
     "title": ""
    }
   },
   "source": [
    "#### Create an Entity (AAS Model) based on that EntityTypeDef that was created before"
   ]
  },
  {
   "cell_type": "code",
   "execution_count": 0,
   "metadata": {
    "application/vnd.databricks.v1+cell": {
     "cellMetadata": {},
     "inputWidgets": {},
     "nuid": "05b63d5a-076d-402d-9d43-fd1d3dbdf545",
     "showTitle": false,
     "title": ""
    }
   },
   "outputs": [],
   "source": [
    "modelGuid1 = gt.get_guid()\n",
    "\n",
    "#Create a new (AAS Model) entity\n",
    "ae = AtlasEntity(\n",
    "    name=\"Model1\",\n",
    "    typeName=\"azure_analysis_services_model\",\n",
    "    qualified_name=\"asazure://exsaaseastus2.asazure.windows.net/aashomserver/model1\",\n",
    "    guid=modelGuid1,\n",
    "    attributes={\"database-name\":\"AASDB1\", \"compatibility-level\":1100}\n",
    ")\n",
    "# Upload the new entity\n",
    "uploadEntity = client.upload_entities(batch=[ae])"
   ]
  },
  {
   "cell_type": "markdown",
   "metadata": {
    "application/vnd.databricks.v1+cell": {
     "cellMetadata": {},
     "inputWidgets": {},
     "nuid": "9208d882-e6e8-4015-9d3e-346db3cfb89e",
     "showTitle": false,
     "title": ""
    }
   },
   "source": [
    "#### Create an Entity (AAS Model) based on that EntityTypeDef that was created before"
   ]
  },
  {
   "cell_type": "code",
   "execution_count": 0,
   "metadata": {
    "application/vnd.databricks.v1+cell": {
     "cellMetadata": {},
     "inputWidgets": {},
     "nuid": "ffbc16a5-9f8a-4a82-9daa-97623f8dbd38",
     "showTitle": false,
     "title": ""
    }
   },
   "outputs": [],
   "source": [
    "modelGuid2 = gt.get_guid()\n",
    "\n",
    "#Create a new (AAS Model) entity\n",
    "ae = AtlasEntity(\n",
    "    name=\"Model2\",\n",
    "    typeName=\"azure_analysis_services_model\",\n",
    "    qualified_name=\"asazure://exsaaseastus2.asazure.windows.net/aashomserver/model2\",\n",
    "    guid=modelGuid2,\n",
    "    attributes={\"database-name\":\"AASDB1\", \"compatibility-level\":1100}\n",
    ")\n",
    "# Upload the new entity\n",
    "uploadEntity = client.upload_entities(batch=[ae])"
   ]
  },
  {
   "cell_type": "markdown",
   "metadata": {
    "application/vnd.databricks.v1+cell": {
     "cellMetadata": {},
     "inputWidgets": {},
     "nuid": "6b2cef1b-cb49-4337-b68d-36b9ebcfbbd5",
     "showTitle": false,
     "title": ""
    }
   },
   "source": [
    "#### Create an Entity (AAS Table) based on that EntityTypeDef that was created before"
   ]
  },
  {
   "cell_type": "code",
   "execution_count": 0,
   "metadata": {
    "application/vnd.databricks.v1+cell": {
     "cellMetadata": {},
     "inputWidgets": {},
     "nuid": "b3e33f62-5c39-4bde-af9d-e7c837699157",
     "showTitle": false,
     "title": ""
    }
   },
   "outputs": [],
   "source": [
    "tableGuid = gt.get_guid()\n",
    "\n",
    "#Create a new (AAS Table) entity\n",
    "ae = AtlasEntity(\n",
    "    name=\"Table1\",\n",
    "    typeName=\"azure_analysis_services_table\",\n",
    "    qualified_name=\"asazure://exsaaseastus2.asazure.windows.net/aashomserver/model1/table1\",\n",
    "    guid=tableGuid,\n",
    "    attributes={\"tableType\":\"Data\", \"query\": \"\"}\n",
    ")\n",
    "# Upload the new entity\n",
    "uploadEntity = client.upload_entities(batch=[ae])"
   ]
  },
  {
   "cell_type": "markdown",
   "metadata": {
    "application/vnd.databricks.v1+cell": {
     "cellMetadata": {},
     "inputWidgets": {},
     "nuid": "fc966d76-f66a-4ada-bb36-360dfcfa9891",
     "showTitle": false,
     "title": ""
    }
   },
   "source": [
    "#### Create an Entity (AAS Column) based on that EntityTypeDef that was created before"
   ]
  },
  {
   "cell_type": "code",
   "execution_count": 0,
   "metadata": {
    "application/vnd.databricks.v1+cell": {
     "cellMetadata": {},
     "inputWidgets": {},
     "nuid": "bbe82189-7c5e-4290-b4ae-20c4be8b449f",
     "showTitle": false,
     "title": ""
    },
    "scrolled": true
   },
   "outputs": [],
   "source": [
    "columnGuid = gt.get_guid()\n",
    "\n",
    "#Create a new (AAS Column) entity\n",
    "ae = AtlasEntity(\n",
    "    name=\"Column1\",\n",
    "    description=\"Column description\",\n",
    "    typeName=\"azure_analysis_services_column\",\n",
    "    qualified_name=\"asazure://exsaaseastus2.asazure.windows.net/aashomserver/model1/table1#column1\",\n",
    "    guid=columnGuid,\n",
    "    attributes={\"data_type\":\"String\", \"isHidden\": \"FALSE\", \"isKey\":\"FALSE\", \"columnType\":\"Data\"}\n",
    ")\n",
    "# Upload the new entity\n",
    "uploadEntity = client.upload_entities(batch=[ae])"
   ]
  },
  {
   "cell_type": "markdown",
   "metadata": {
    "application/vnd.databricks.v1+cell": {
     "cellMetadata": {},
     "inputWidgets": {},
     "nuid": "9523b868-0f00-44a6-a6be-70c7921f9388",
     "showTitle": false,
     "title": ""
    }
   },
   "source": [
    "> This is an exemple on how may be appearing on Azure Purview at this point:\n",
    "<img src=\"./img/searchResults.png\" width=\"700\" height=\"700\">\n",
    "\n",
    "---\n",
    "\n",
    "### Now create the relationship between the entities, using the guid reference for the entity created before\n",
    "#### Create the relationship between the server (AASHOMSERVER) and model (model1)"
   ]
  },
  {
   "cell_type": "code",
   "execution_count": 0,
   "metadata": {
    "application/vnd.databricks.v1+cell": {
     "cellMetadata": {},
     "inputWidgets": {},
     "nuid": "195464e3-ce45-4c49-8f50-0d33a1283b68",
     "showTitle": false,
     "title": ""
    }
   },
   "outputs": [],
   "source": [
    "relationship = {\n",
    "    \"typeName\": \"azure_analysis_services_server_models\",\n",
    "    \"attributes\": {},\n",
    "    \"guid\": -100,\n",
    "    \"provenanceType\": 0,\n",
    "    \"end1\": {\n",
    "        \"guid\": serverGuid,\n",
    "        \"typeName\": \"azure_analysis_services_server\",\n",
    "        \"uniqueAttributes\": {\"qualifiedName\": \"asazure://exsaaseastus2.asazure.windows.net/aashomserver\"}\n",
    "\n",
    "    },\n",
    "    \"end2\": {\n",
    "        \"guid\": modelGuid1,\n",
    "        \"typeName\": \"azure_analysis_services_model\",\n",
    "        \"uniqueAttributes\": {\"qualifiedName\": \"asazure://exsaaseastus2.asazure.windows.net/aashomserver/model1\"}\n",
    "    }\n",
    "}\n",
    "# Upload the new relationship\n",
    "client.upload_relationship(relationship)"
   ]
  },
  {
   "cell_type": "markdown",
   "metadata": {
    "application/vnd.databricks.v1+cell": {
     "cellMetadata": {},
     "inputWidgets": {},
     "nuid": "290d9fc4-2412-4d64-86ee-86aa359016ac",
     "showTitle": false,
     "title": ""
    }
   },
   "source": [
    "#### Create the relationship between the server (AASHOMSERVER) and model (model2)"
   ]
  },
  {
   "cell_type": "code",
   "execution_count": 0,
   "metadata": {
    "application/vnd.databricks.v1+cell": {
     "cellMetadata": {},
     "inputWidgets": {},
     "nuid": "0f865700-eee2-4c74-a271-18683b94c998",
     "showTitle": false,
     "title": ""
    }
   },
   "outputs": [],
   "source": [
    "relationship = {\n",
    "    \"typeName\": \"azure_analysis_services_server_models\",\n",
    "    \"attributes\": {},\n",
    "    \"guid\": -100,\n",
    "    \"provenanceType\": 0,\n",
    "    \"end1\": {\n",
    "        \"guid\": serverGuid,\n",
    "        \"typeName\": \"azure_analysis_services_server\",\n",
    "        \"uniqueAttributes\": {\"qualifiedName\": \"asazure://exsaaseastus2.asazure.windows.net/aashomserver\"}\n",
    "\n",
    "    },\n",
    "    \"end2\": {\n",
    "        \"guid\": modelGuid2,\n",
    "        \"typeName\": \"azure_analysis_services_model\",\n",
    "        \"uniqueAttributes\": {\"qualifiedName\": \"asazure://exsaaseastus2.asazure.windows.net/aashomserver/model2\"}\n",
    "    }\n",
    "}\n",
    "# Upload the new relationship\n",
    "client.upload_relationship(relationship)"
   ]
  },
  {
   "cell_type": "markdown",
   "metadata": {
    "application/vnd.databricks.v1+cell": {
     "cellMetadata": {},
     "inputWidgets": {},
     "nuid": "63180e21-f247-419d-a707-c73d25d15f5b",
     "showTitle": false,
     "title": ""
    }
   },
   "source": [
    "> This is an exemple on how may be appearing on Azure Purview at this point:\n",
    "<img src=\"./img/serverRelationWithModels.png\" width=\"800\" height=\"800\">\n",
    "\n",
    "---\n",
    "\n",
    "#### Create the relationship between the model (model1) and table (table1)"
   ]
  },
  {
   "cell_type": "code",
   "execution_count": 0,
   "metadata": {
    "application/vnd.databricks.v1+cell": {
     "cellMetadata": {},
     "inputWidgets": {},
     "nuid": "016bef61-cd08-4f62-b6b5-6052efb30a0f",
     "showTitle": false,
     "title": ""
    }
   },
   "outputs": [],
   "source": [
    "relationship = {\n",
    "    \"typeName\": \"azure_analysis_services_model_tables\",\n",
    "    \"attributes\": {},\n",
    "    \"guid\": -100,\n",
    "    \"provenanceType\": 0,\n",
    "    \"end1\": {\n",
    "        \"guid\": modelGuid1,\n",
    "        \"typeName\": \"azure_analysis_services_model\",\n",
    "        \"uniqueAttributes\": {\"qualifiedName\": \"asazure://exsaaseastus2.asazure.windows.net/aashomserver/model1\"}\n",
    "    },\n",
    "    \"end2\": {\n",
    "        \"guid\": tableGuid,\n",
    "        \"typeName\": \"azure_analysis_services_table\",\n",
    "        \"uniqueAttributes\": {\"qualifiedName\": \"asazure://exsaaseastus2.asazure.windows.net/aashomserver/model1/table1\"}\n",
    "    }\n",
    "}\n",
    "# Upload the new relationship\n",
    "client.upload_relationship(relationship)"
   ]
  },
  {
   "cell_type": "markdown",
   "metadata": {
    "application/vnd.databricks.v1+cell": {
     "cellMetadata": {},
     "inputWidgets": {},
     "nuid": "b535ac34-5209-4b39-8a0b-0d80e5039d81",
     "showTitle": false,
     "title": ""
    }
   },
   "source": [
    "#### Create the relationship between the table (table1) and column (column1)"
   ]
  },
  {
   "cell_type": "code",
   "execution_count": 0,
   "metadata": {
    "application/vnd.databricks.v1+cell": {
     "cellMetadata": {},
     "inputWidgets": {},
     "nuid": "35958da2-3ec1-4c75-83f8-5e3af733ed11",
     "showTitle": false,
     "title": ""
    }
   },
   "outputs": [],
   "source": [
    "relationship = {\n",
    "    \"typeName\": \"azure_analysis_services_table_columns\",\n",
    "    \"attributes\": {},\n",
    "    \"guid\": -100,\n",
    "    \"provenanceType\": 0,\n",
    "    \"end1\": {\n",
    "        \"guid\": tableGuid,\n",
    "        \"typeName\": \"azure_analysis_services_table\",\n",
    "        \"uniqueAttributes\": {\"qualifiedName\": \"asazure://exsaaseastus2.asazure.windows.net/aashomserver/model1/table1\"}\n",
    "    },\n",
    "    \"end2\": {\n",
    "        \"guid\": columnGuid,\n",
    "        \"typeName\": \"azure_analysis_services_column\",\n",
    "        \"uniqueAttributes\": {\"qualifiedName\": \"asazure://exsaaseastus2.asazure.windows.net/aashomserver/model1/table1#column1\"}\n",
    "    }\n",
    "}\n",
    "# Upload the new relationship\n",
    "client.upload_relationship(relationship)"
   ]
  },
  {
   "cell_type": "markdown",
   "metadata": {
    "application/vnd.databricks.v1+cell": {
     "cellMetadata": {},
     "inputWidgets": {},
     "nuid": "929428f8-cea6-462c-b097-16d1296feb82",
     "showTitle": false,
     "title": ""
    }
   },
   "source": [
    "> This is an exemple on how may be appearing on Azure Purview at this point:\n",
    "<img src=\"./img/tableRelationWithColumns.png\" width=\"800\" height=\"800\">\n",
    "\n",
    "---\n",
    "\n",
    "### Clean Up"
   ]
  },
  {
   "cell_type": "code",
   "execution_count": 0,
   "metadata": {
    "application/vnd.databricks.v1+cell": {
     "cellMetadata": {},
     "inputWidgets": {},
     "nuid": "6a7095fd-86e2-4b06-9432-eee0105f0a93",
     "showTitle": false,
     "title": ""
    }
   },
   "outputs": [],
   "source": [
    "# Deletes all entities and custom types\n",
    "client.delete_entity(guid=modelGuid1)\n",
    "client.delete_entity(guid=modelGuid2)\n",
    "client.delete_entity(guid=serverGuid)\n",
    "client.delete_entity(guid=tableGuid)\n",
    "client.delete_type(name=\"azure_analysis_services_server_models\")\n",
    "client.delete_type(name=\"azure_analysis_services_model_tables\")\n",
    "client.delete_type(name=\"azure_analysis_services_table_columns\")\n",
    "client.delete_type(name=\"azure_analysis_services_server\")\n",
    "client.delete_type(name=\"azure_analysis_services_model\")\n",
    "client.delete_type(name=\"azure_analysis_services_table\")\n",
    "client.delete_type(name=\"azure_analysis_services_column\")"
   ]
  },
  {
   "cell_type": "markdown",
   "metadata": {
    "application/vnd.databricks.v1+cell": {
     "cellMetadata": {},
     "inputWidgets": {},
     "nuid": "d1026cd9-a1a3-4468-88d7-ddd766c05011",
     "showTitle": false,
     "title": ""
    }
   },
   "source": [
    "### Conclusions\n",
    "> This is a sample to help you to represents Azure Analysis Services on Azure Purviiew, creating and uploading the assets in a manual manner. <br> The point here is to give an overall ideia on how to configure everything and see how it works. <br><br>\n",
    "> For operationalize and make this process more automatic, you may get the metadata from AAS through API (<a href=\"https://docs.microsoft.com/en-us/rest/api/analysisservices/\">AAS REST API</a>) and upload everything using a Excel template file to do so (<a href=\"https://github.com/wjohnson/pyapacheatlas/tree/master/samples/excel\">Excel Sample</a>)."
   ]
  }
 ],
 "metadata": {
  "application/vnd.databricks.v1+notebook": {
   "dashboards": [],
   "language": "python",
   "notebookMetadata": {},
   "notebookName": "Purview_Analysis_Services_Custom",
   "widgets": {}
  },
  "kernelspec": {
   "display_name": "Python 3",
   "language": "python",
   "name": "python3"
  },
  "language_info": {
   "codemirror_mode": {
    "name": "ipython",
    "version": 3
   },
   "file_extension": ".py",
   "mimetype": "text/x-python",
   "name": "python",
   "nbconvert_exporter": "python",
   "pygments_lexer": "ipython3",
   "version": "3.8.5"
  }
 },
 "nbformat": 4,
 "nbformat_minor": 0
}
