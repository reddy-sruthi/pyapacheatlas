{
 "cells": [
  {
   "cell_type": "markdown",
   "metadata": {
    "application/vnd.databricks.v1+cell": {
     "cellMetadata": {},
     "inputWidgets": {},
     "nuid": "79283e41-5757-4da1-b578-838186be0c34",
     "showTitle": false,
     "title": ""
    }
   },
   "source": [
    "# Overview\n",
    "---\n",
    "> In this Notebook, we will explore PyApacheAtlas package to work with Apache Atlas API in order to create custom Types, Entities and Relationships. \n",
    "All of that to make **Azure Analysis Services** assets available in Azure Purview.\n",
    "\n",
    "**Scanning of Analysis Services** is the second most voted idea on Microsoft's Feedback forum (<a href=\"https://feedback.azure.com/forums/932437-azure-purview/suggestions/42183862-scanning-of-analysis-services-azure-analysis-serv\"> Scanning AAS Idea</a>), but this feature currently is not in the product's roadmap.\n",
    "Several companies have a large footprint of Analysis Services and they need to keep track of that.\n",
    "\n",
    "This sample will help you to get started on create type structures, create entities and relationship to:\n",
    "- Azure Analysis Services SERVER\n",
    "- Azure Analysis Services MODELS\n",
    "- Azure Analysis Services TABLES\n",
    "- Azure Analysis Services COLUMNS\n",
    "\n",
    "### Prerequisites\n",
    "\n",
    "- [Python 3](https://www.python.org/downloads/)\n",
    "- [Install Atlas Python client](https://github.com/wjohnson/pyapacheatlas)\n",
    "<br>`python -m pip install pyapacheatlas`\n",
    "- [Create and configure a Service Principal to use Purview APIs](https://docs.microsoft.com/en-us/azure/purview/tutorial-using-rest-apis)\n",
    "\n"
   ]
  },
  {
   "cell_type": "code",
   "execution_count": 0,
   "metadata": {
    "application/vnd.databricks.v1+cell": {
     "cellMetadata": {},
     "inputWidgets": {},
     "nuid": "86a36107-e1c2-46b0-b136-c0ce1e66640b",
     "showTitle": false,
     "title": ""
    }
   },
   "outputs": [],
   "source": [
    "import json\n",
    "import os\n",
    "from pyapacheatlas.auth import ServicePrincipalAuthentication\n",
    "from pyapacheatlas.core import PurviewClient\n",
    "from pyapacheatlas.core import AtlasEntity, AtlasProcess\n",
    "from pyapacheatlas.core import AtlasAttributeDef, EntityTypeDef, RelationshipTypeDef\n",
    "from pyapacheatlas.core.util import GuidTracker\n",
    "from pyapacheatlas.readers import ExcelReader\n",
    "from pyapacheatlas.scaffolding import column_lineage_scaffold\n",
    "from pyapacheatlas.readers import ExcelConfiguration, ExcelReader"
   ]
  },
  {
   "cell_type": "markdown",
   "metadata": {
    "application/vnd.databricks.v1+cell": {
     "cellMetadata": {},
     "inputWidgets": {},
     "nuid": "85cff7a7-67ba-4397-b3cc-0f47df5b9af3",
     "showTitle": false,
     "title": ""
    }
   },
   "source": [
    "#### Create a Purview Client Connection\n",
    "> Provides connectivity to your Atlas / Azure Purview service."
   ]
  },
  {
   "cell_type": "code",
   "execution_count": 0,
   "metadata": {
    "application/vnd.databricks.v1+cell": {
     "cellMetadata": {},
     "inputWidgets": {},
     "nuid": "a8063f13-d966-412d-bf90-32bd8b8ded41",
     "showTitle": false,
     "title": ""
    }
   },
   "outputs": [],
   "source": [
    "auth = ServicePrincipalAuthentication(\n",
    "    tenant_id = \"Your-Tenant-ID\", # fill in\n",
    "    client_id = \"Your-Service-Principal-Client_ID\", # fill in\n",
    "    client_secret = \"Your-Service-Principal-Secret\" # fill in\n",
    ")\n",
    "\n",
    "# Create a client to connect to your service.\n",
    "client = PurviewClient(\n",
    "    account_name = \"Your-Purview-Account-Name\", # fill in\n",
    "    authentication = auth\n",
    ")"
   ]
  },
  {
   "cell_type": "markdown",
   "metadata": {
    "application/vnd.databricks.v1+cell": {
     "cellMetadata": {},
     "inputWidgets": {},
     "nuid": "cee43c09-8ca2-4c0e-ab9c-08d309f65367",
     "showTitle": false,
     "title": ""
    }
   },
   "source": [
    "#### Create a custom entity type that represents the Azure Analysis Services Server\n",
    "> What are the attributes that represents Analysis Services **Server**? <br>\n",
    "- Azure Tier\n",
    "- Subscription\n",
    "- Resource Group\n",
    "- Location\n",
    "<br> You can have many others attribute that make sense for you, this is completelly customizabe.\n",
    "<br> PS: superType is configured as \"azure_resource\" because this options is beeing based on Azure SQL Server superType. \n",
    "    "
   ]
  },
  {
   "cell_type": "code",
   "execution_count": 0,
   "metadata": {
    "application/vnd.databricks.v1+cell": {
     "cellMetadata": {},
     "inputWidgets": {},
     "nuid": "cd4a2cd9-89c1-45e8-ad0a-c141dac49e57",
     "showTitle": false,
     "title": ""
    }
   },
   "outputs": [],
   "source": [
    "custom_type = EntityTypeDef(\n",
    "    name=\"azure_analysis_services_server\",\n",
    "    superTypes=[\"azure_resource\"],\n",
    "    description=\"azure_analysis_services_server\",\n",
    "    typeVersion=\"1.0\",\n",
    ")\n",
    "\n",
    "#Attributes that represents the server\n",
    "custom_type.addAttributeDef(\n",
    "    AtlasAttributeDef(name=\"tier\", typeName=\"string\", isOptional=False),\n",
    "    AtlasAttributeDef(name=\"subscription\", typeName=\"string\", isOptional=False),\n",
    "    AtlasAttributeDef(name=\"resource-group\", typeName=\"string\", isOptional=False),\n",
    "    AtlasAttributeDef(name=\"location\", typeName=\"string\", isOptional=False)\n",
    ")\n",
    "\n",
    "#Upload that custom type with the client\n",
    "client.upload_typedefs(\n",
    "    entityDefs=[custom_type],\n",
    "    force_update=True\n",
    ")"
   ]
  },
  {
   "cell_type": "markdown",
   "metadata": {
    "application/vnd.databricks.v1+cell": {
     "cellMetadata": {},
     "inputWidgets": {},
     "nuid": "9f4b7ecc-ea56-4a22-bf7f-e3c8fb301a5e",
     "showTitle": false,
     "title": ""
    }
   },
   "source": [
    "#### Create a custom entity type that represents the Azure Analysis Services Model\n",
    "> What are the attributes that represents Analysis Services **Model**? <br>\n",
    "- Database Name\n",
    "- Compatibility Level\n",
    "<br> You can have many others attribute that make sense for you, this is completelly customizabe.\n",
    "<br> PS: superType is configured as \"Asset\" because this options is beeing based on Azure SQL Schema superType. "
   ]
  },
  {
   "cell_type": "code",
   "execution_count": 0,
   "metadata": {
    "application/vnd.databricks.v1+cell": {
     "cellMetadata": {},
     "inputWidgets": {},
     "nuid": "f1c3ff4c-4a48-466f-96e4-373e15fcf321",
     "showTitle": false,
     "title": ""
    }
   },
   "outputs": [],
   "source": [
    "custom_type = EntityTypeDef(\n",
    "    name=\"azure_analysis_services_model\",\n",
    "    superTypes=[\"Asset\"],\n",
    "    description=\"azure_analysis_services_model\",\n",
    "    typeVersion=\"1.0\",\n",
    "    serviceType=\"Azure Analysis Services Model\",\n",
    ")\n",
    "\n",
    "#Attributes that represents the model\n",
    "custom_type.addAttributeDef(\n",
    "    AtlasAttributeDef(name=\"database-name\", typeName=\"string\", isOptional=False),\n",
    "    AtlasAttributeDef(name=\"compatibility-level\", typeName=\"int\", isOptional=False)\n",
    ")\n",
    "\n",
    "#Upload that custom type with the client\n",
    "client.upload_typedefs(\n",
    "    entityDefs=[custom_type],\n",
    "    force_update=True\n",
    ")"
   ]
  },
  {
   "cell_type": "markdown",
   "metadata": {
    "application/vnd.databricks.v1+cell": {
     "cellMetadata": {},
     "inputWidgets": {},
     "nuid": "3c657ebb-8c02-4cdc-9615-067a77f0bf7a",
     "showTitle": false,
     "title": ""
    }
   },
   "source": [
    "#### Create a custom entity type that represents the Azure Analysis Services Model Table\n",
    "> What are the attributes that represents Analysis Services Model **Table**? <br>\n",
    "- Table Type \n",
    "- Query\n",
    "<br> You can have many others attribute that make sense for you, this is completelly customizabe.\n",
    "<br> PS: superType is configured as \"DataSet\" because this options is beeing based on Azure SQL Table superType. "
   ]
  },
  {
   "cell_type": "code",
   "execution_count": 0,
   "metadata": {
    "application/vnd.databricks.v1+cell": {
     "cellMetadata": {},
     "inputWidgets": {},
     "nuid": "e7935efd-ae1d-4af9-a1d0-a09c93dc76c8",
     "showTitle": false,
     "title": ""
    }
   },
   "outputs": [],
   "source": [
    "custom_type = EntityTypeDef(\n",
    "    name=\"azure_analysis_services_table\",\n",
    "    superTypes=[\"DataSet\"],\n",
    "    description=\"azure_analysis_services_table\",\n",
    "    typeVersion=\"1.0\",\n",
    "    serviceType=\"Azure Analysis Services Model\",\n",
    ")\n",
    "\n",
    "#Attributes that represents the model table\n",
    "custom_type.addAttributeDef(\n",
    "    AtlasAttributeDef(name=\"tableType\", typeName=\"string\", isOptional=False),\n",
    "    AtlasAttributeDef(name=\"query\", typeName=\"string\", isOptional=False)\n",
    ")\n",
    "\n",
    "client.upload_typedefs(\n",
    "    entityDefs=[custom_type],\n",
    "    force_update=True\n",
    ")"
   ]
  },
  {
   "cell_type": "markdown",
   "metadata": {
    "application/vnd.databricks.v1+cell": {
     "cellMetadata": {},
     "inputWidgets": {},
     "nuid": "c427fc17-9bef-45f1-aa73-b27268c8a63d",
     "showTitle": false,
     "title": ""
    }
   },
   "source": [
    "#### Create a custom entity type that represents the Azure Analysis Services Model Table Column\n",
    "> What are the attributes that represents Analysis Services Model Table **Column**? <br>\n",
    "- Data Type\n",
    "- isHidden\n",
    "- isKey\n",
    "- Column Type\n",
    "<br> You can have many others attribute that make sense for you, this is completelly customizabe.\n",
    "<br> PS: superType is configured as \"DataSet\" because this options is beeing based on Azure SQL Cloumn superType. "
   ]
  },
  {
   "cell_type": "code",
   "execution_count": 0,
   "metadata": {
    "application/vnd.databricks.v1+cell": {
     "cellMetadata": {},
     "inputWidgets": {},
     "nuid": "0d439936-159f-4add-bef0-6b431bd3e7a9",
     "showTitle": false,
     "title": ""
    }
   },
   "outputs": [],
   "source": [
    "custom_type = EntityTypeDef(\n",
    "    name=\"azure_analysis_services_column\",\n",
    "    superTypes=[\"DataSet\"],\n",
    "    description=\"azure_analysis_services_column\",\n",
    "    typeVersion=\"1.0\",\n",
    "    serviceType=\"Azure Analysis Services Model\",\n",
    ")\n",
    "\n",
    "#Attributes that represents the model column\n",
    "custom_type.addAttributeDef(\n",
    "    AtlasAttributeDef(name=\"data_type\", typeName=\"string\", isOptional=False),\n",
    "    AtlasAttributeDef(name=\"isHidden\", typeName=\"string\", isOptional=False),\n",
    "    AtlasAttributeDef(name=\"isKey\", typeName=\"string\", isOptional=False),\n",
    "    AtlasAttributeDef(name=\"columnType\", typeName=\"string\", isOptional=False)\n",
    ")\n",
    "\n",
    "client.upload_typedefs(\n",
    "    entityDefs=[custom_type],\n",
    "    force_update=True\n",
    ")"
   ]
  },
  {
   "cell_type": "markdown",
   "metadata": {
    "application/vnd.databricks.v1+cell": {
     "cellMetadata": {},
     "inputWidgets": {},
     "nuid": "bf92421e-22e3-4068-95d0-d75e9dff7a20",
     "showTitle": false,
     "title": ""
    }
   },
   "source": [
    "#### Create a custom type that represents the Relationship between AAS Servers and Models"
   ]
  },
  {
   "cell_type": "code",
   "execution_count": 0,
   "metadata": {
    "application/vnd.databricks.v1+cell": {
     "cellMetadata": {},
     "inputWidgets": {},
     "nuid": "3e545383-8582-429d-9c54-ee640a1d6d1c",
     "showTitle": false,
     "title": ""
    },
    "scrolled": true
   },
   "outputs": [],
   "source": [
    "rd = RelationshipTypeDef(\n",
    "    name=\"azure_analysis_services_server_models\",\n",
    "    attributeDefs=[],\n",
    "    relationshipCategory=\"COMPOSITION\", # Means the child can't exist  without the parent\n",
    "    endDef1={ # endDef1 decribes what the parent will have as an attribute\n",
    "        \"type\":\"azure_analysis_services_server\", # Type of the parent\n",
    "        \"name\":\"models\", # What the parent will have\n",
    "        \"isContainer\": True,\n",
    "        \"cardinality\":\"SET\", # This is related to the cardinality, in this case the parent Server will have a SET of Models.\n",
    "        \"isLegacyAttribute\":False\n",
    "    },\n",
    "    endDef2={ # endDef2 decribes what the child will have as an attribute\n",
    "        \"type\":\"azure_analysis_services_model\", # Type of the child\n",
    "        \"name\":\"server\", # What the child will have\n",
    "        \"isContainer\":False,\n",
    "        \"cardinality\":\"SINGLE\",\n",
    "        \"isLegacyAttribute\":False\n",
    "    }\n",
    ")\n",
    "client.upload_typedefs(relationshipDefs=[rd])\n"
   ]
  },
  {
   "cell_type": "markdown",
   "metadata": {
    "application/vnd.databricks.v1+cell": {
     "cellMetadata": {},
     "inputWidgets": {},
     "nuid": "53b6f344-0f2e-4da7-a567-a5d32224b6c4",
     "showTitle": false,
     "title": ""
    }
   },
   "source": [
    "#### Create a custom type that represents the Relationship between AAS Models and Tables"
   ]
  },
  {
   "cell_type": "code",
   "execution_count": 0,
   "metadata": {
    "application/vnd.databricks.v1+cell": {
     "cellMetadata": {},
     "inputWidgets": {},
     "nuid": "64a9df4a-57af-41ae-a3fc-576170c4c140",
     "showTitle": false,
     "title": ""
    }
   },
   "outputs": [],
   "source": [
    "rd = RelationshipTypeDef(\n",
    "    name=\"azure_analysis_services_model_tables\",\n",
    "    attributeDefs=[],\n",
    "    relationshipCategory=\"COMPOSITION\",\n",
    "    endDef1={\n",
    "        \"type\":\"azure_analysis_services_model\",\n",
    "        \"name\":\"tables\",\n",
    "        \"isContainer\":True,\n",
    "        \"cardinality\":\"SET\",\n",
    "        \"isLegacyAttribute\":False\n",
    "    },\n",
    "    endDef2={\n",
    "        \"type\":\"azure_analysis_services_table\",\n",
    "        \"name\":\"model\",\n",
    "        \"isContainer\":False,\n",
    "        \"cardinality\":\"SINGLE\",\n",
    "        \"isLegacyAttribute\":False\n",
    "    }\n",
    ")\n",
    "client.upload_typedefs(relationshipDefs=[rd])"
   ]
  },
  {
   "cell_type": "markdown",
   "metadata": {
    "application/vnd.databricks.v1+cell": {
     "cellMetadata": {},
     "inputWidgets": {},
     "nuid": "76b8a8cc-2e35-49c4-a8ed-ca68defc7870",
     "showTitle": false,
     "title": ""
    }
   },
   "source": [
    "#### Create a custom type that represents the Relationship between AAS Tables and Columns"
   ]
  },
  {
   "cell_type": "code",
   "execution_count": 0,
   "metadata": {
    "application/vnd.databricks.v1+cell": {
     "cellMetadata": {},
     "inputWidgets": {},
     "nuid": "482395c2-d07f-47a4-a172-dba093f860e0",
     "showTitle": false,
     "title": ""
    }
   },
   "outputs": [],
   "source": [
    "rd = RelationshipTypeDef(\n",
    "    name=\"azure_analysis_services_table_columns\",\n",
    "    attributeDefs=[],\n",
    "    relationshipCategory=\"COMPOSITION\",\n",
    "    endDef1={\n",
    "        \"type\":\"azure_analysis_services_table\",\n",
    "        \"name\":\"columns\",\n",
    "        \"isContainer\":True,\n",
    "        \"cardinality\":\"SET\",\n",
    "        \"isLegacyAttribute\":False\n",
    "    },\n",
    "    endDef2={\n",
    "        \"type\":\"azure_analysis_services_column\",\n",
    "        \"name\":\"table\",\n",
    "        \"isContainer\":False,\n",
    "        \"cardinality\":\"SINGLE\",\n",
    "        \"isLegacyAttribute\":False\n",
    "    }\n",
    ")\n",
    "client.upload_typedefs(relationshipDefs=[rd])"
   ]
  },
  {
   "cell_type": "markdown",
   "metadata": {
    "application/vnd.databricks.v1+cell": {
     "cellMetadata": {},
     "inputWidgets": {},
     "nuid": "0b065fc3-26b9-4521-8d45-2a87045dd2ab",
     "showTitle": false,
     "title": ""
    }
   },
   "source": [
    "#### Create an Entity (AAS Server) based on that EntityTypeDef that was created before"
   ]
  },
  {
   "cell_type": "code",
   "execution_count": 0,
   "metadata": {
    "application/vnd.databricks.v1+cell": {
     "cellMetadata": {},
     "inputWidgets": {},
     "nuid": "b7c7dd6f-0fdb-4e8d-9fce-397e5a076958",
     "showTitle": false,
     "title": ""
    }
   },
   "outputs": [],
   "source": [
    "gt = GuidTracker() # Instantiate GuidTracker to manage guid creation\n",
    "serverGuid = gt.get_guid()\n",
    "\n",
    "#Create a new (AAS Server) entity\n",
    "ae = AtlasEntity(\n",
    "    name=\"AASHOMSERVER\",\n",
    "    typeName=\"azure_analysis_services_server\",\n",
    "    qualified_name=\"asazure://exsaaseastus2.asazure.windows.net/aashomserver\",# AAS Server name obtained on Azure Portal\n",
    "    guid=serverGuid,\n",
    "    attributes={\"tier\":\"D5\", \"subscription\":\"GProd\", \"resource-group\":\"USAZU1VRES302\", \"location\":\"EAST US 2\"}\n",
    ")\n",
    "# Upload the new entity\n",
    "uploadEntity = client.upload_entities(batch=[ae])"
   ]
  },
  {
   "cell_type": "markdown",
   "metadata": {
    "application/vnd.databricks.v1+cell": {
     "cellMetadata": {},
     "inputWidgets": {},
     "nuid": "f0a75612-f11a-45ca-a225-8720618051a2",
     "showTitle": false,
     "title": ""
    }
   },
   "source": [
    "#### Create an Entity (AAS Model) based on that EntityTypeDef that was created before"
   ]
  },
  {
   "cell_type": "code",
   "execution_count": 0,
   "metadata": {
    "application/vnd.databricks.v1+cell": {
     "cellMetadata": {},
     "inputWidgets": {},
     "nuid": "c2c66442-6199-4c1f-a50e-b6f93acc9571",
     "showTitle": false,
     "title": ""
    }
   },
   "outputs": [],
   "source": [
    "modelGuid1 = gt.get_guid()\n",
    "\n",
    "#Create a new (AAS Model) entity\n",
    "ae = AtlasEntity(\n",
    "    name=\"Model1\",\n",
    "    typeName=\"azure_analysis_services_model\",\n",
    "    qualified_name=\"asazure://exsaaseastus2.asazure.windows.net/aashomserver/model1\",\n",
    "    guid=modelGuid1,\n",
    "    attributes={\"database-name\":\"AASDB1\", \"compatibility-level\":1100}\n",
    ")\n",
    "# Upload the new entity\n",
    "uploadEntity = client.upload_entities(batch=[ae])"
   ]
  },
  {
   "cell_type": "markdown",
   "metadata": {
    "application/vnd.databricks.v1+cell": {
     "cellMetadata": {},
     "inputWidgets": {},
     "nuid": "d823de3f-242c-43f9-9c0d-ecf4ff5fff93",
     "showTitle": false,
     "title": ""
    }
   },
   "source": [
    "#### Create an Entity (AAS Model) based on that EntityTypeDef that was created before"
   ]
  },
  {
   "cell_type": "code",
   "execution_count": 0,
   "metadata": {
    "application/vnd.databricks.v1+cell": {
     "cellMetadata": {},
     "inputWidgets": {},
     "nuid": "e0a3b3f3-f62a-486e-8fd2-d4a8f7a1a3ee",
     "showTitle": false,
     "title": ""
    }
   },
   "outputs": [],
   "source": [
    "modelGuid2 = gt.get_guid()\n",
    "\n",
    "#Create a new (AAS Model) entity\n",
    "ae = AtlasEntity(\n",
    "    name=\"Model2\",\n",
    "    typeName=\"azure_analysis_services_model\",\n",
    "    qualified_name=\"asazure://exsaaseastus2.asazure.windows.net/aashomserver/model2\",\n",
    "    guid=modelGuid2,\n",
    "    attributes={\"database-name\":\"AASDB1\", \"compatibility-level\":1100}\n",
    ")\n",
    "# Upload the new entity\n",
    "uploadEntity = client.upload_entities(batch=[ae])"
   ]
  },
  {
   "cell_type": "markdown",
   "metadata": {
    "application/vnd.databricks.v1+cell": {
     "cellMetadata": {},
     "inputWidgets": {},
     "nuid": "49a722eb-3af9-4226-abea-c844b3e01c19",
     "showTitle": false,
     "title": ""
    }
   },
   "source": [
    "#### Create an Entity (AAS Table) based on that EntityTypeDef that was created before"
   ]
  },
  {
   "cell_type": "code",
   "execution_count": 0,
   "metadata": {
    "application/vnd.databricks.v1+cell": {
     "cellMetadata": {},
     "inputWidgets": {},
     "nuid": "ff19cad8-54e0-4725-9ddf-3e110dfb8349",
     "showTitle": false,
     "title": ""
    }
   },
   "outputs": [],
   "source": [
    "tableGuid = gt.get_guid()\n",
    "\n",
    "#Create a new (AAS Table) entity\n",
    "ae = AtlasEntity(\n",
    "    name=\"Table1\",\n",
    "    typeName=\"azure_analysis_services_table\",\n",
    "    qualified_name=\"asazure://exsaaseastus2.asazure.windows.net/aashomserver/model1/table1\",\n",
    "    guid=tableGuid,\n",
    "    attributes={\"tableType\":\"Data\", \"query\": \"\"}\n",
    ")\n",
    "# Upload the new entity\n",
    "uploadEntity = client.upload_entities(batch=[ae])"
   ]
  },
  {
   "cell_type": "markdown",
   "metadata": {
    "application/vnd.databricks.v1+cell": {
     "cellMetadata": {},
     "inputWidgets": {},
     "nuid": "47e06cb0-47fb-4734-ac93-2e38a552f7d4",
     "showTitle": false,
     "title": ""
    }
   },
   "source": [
    "#### Create an Entity (AAS Column) based on that EntityTypeDef that was created before"
   ]
  },
  {
   "cell_type": "code",
   "execution_count": 0,
   "metadata": {
    "application/vnd.databricks.v1+cell": {
     "cellMetadata": {},
     "inputWidgets": {},
     "nuid": "b58626f2-8274-46b4-b79a-cedd9ece4b4b",
     "showTitle": false,
     "title": ""
    },
    "scrolled": true
   },
   "outputs": [],
   "source": [
    "columnGuid = gt.get_guid()\n",
    "\n",
    "#Create a new (AAS Column) entity\n",
    "ae = AtlasEntity(\n",
    "    name=\"Column1\",\n",
    "    description=\"Column description\",\n",
    "    typeName=\"azure_analysis_services_column\",\n",
    "    qualified_name=\"asazure://exsaaseastus2.asazure.windows.net/aashomserver/model1/table1#column1\",\n",
    "    guid=columnGuid,\n",
    "    attributes={\"data_type\":\"String\", \"isHidden\": \"FALSE\", \"isKey\":\"FALSE\", \"columnType\":\"Data\"}\n",
    ")\n",
    "# Upload the new entity\n",
    "uploadEntity = client.upload_entities(batch=[ae])"
   ]
  },
  {
   "cell_type": "markdown",
   "metadata": {
    "application/vnd.databricks.v1+cell": {
     "cellMetadata": {},
     "inputWidgets": {},
     "nuid": "a98eb8ff-b8c4-46e2-8381-d4628a80b867",
     "showTitle": false,
     "title": ""
    }
   },
   "source": [
    "> This is an exemple on how may be appearing on Azure Purview at this point:\n",
    "<img src=\"./img/searchResults.png\" width=\"700\" height=\"700\">\n",
    "\n",
    "---\n",
    "\n",
    "### Now create the relationship between the entities, using the guid reference for the entity created before\n",
    "#### Create the relationship between the server (AASHOMSERVER) and model (model1)"
   ]
  },
  {
   "cell_type": "code",
   "execution_count": 0,
   "metadata": {
    "application/vnd.databricks.v1+cell": {
     "cellMetadata": {},
     "inputWidgets": {},
     "nuid": "2c7a3924-f7af-4e04-a8f4-638637b2f9c7",
     "showTitle": false,
     "title": ""
    }
   },
   "outputs": [],
   "source": [
    "relationship = {\n",
    "    \"typeName\": \"azure_analysis_services_server_models\",\n",
    "    \"attributes\": {},\n",
    "    \"guid\": -100,\n",
    "    \"provenanceType\": 0,\n",
    "    \"end1\": {\n",
    "        \"guid\": serverGuid,\n",
    "        \"typeName\": \"azure_analysis_services_server\",\n",
    "        \"uniqueAttributes\": {\"qualifiedName\": \"asazure://exsaaseastus2.asazure.windows.net/aashomserver\"}\n",
    "\n",
    "    },\n",
    "    \"end2\": {\n",
    "        \"guid\": modelGuid1,\n",
    "        \"typeName\": \"azure_analysis_services_model\",\n",
    "        \"uniqueAttributes\": {\"qualifiedName\": \"asazure://exsaaseastus2.asazure.windows.net/aashomserver/model1\"}\n",
    "    }\n",
    "}\n",
    "# Upload the new relationship\n",
    "client.upload_relationship(relationship)"
   ]
  },
  {
   "cell_type": "markdown",
   "metadata": {
    "application/vnd.databricks.v1+cell": {
     "cellMetadata": {},
     "inputWidgets": {},
     "nuid": "b9719b5b-9125-41d7-8929-b6c344a8e0f7",
     "showTitle": false,
     "title": ""
    }
   },
   "source": [
    "#### Create the relationship between the server (AASHOMSERVER) and model (model2)"
   ]
  },
  {
   "cell_type": "code",
   "execution_count": 0,
   "metadata": {
    "application/vnd.databricks.v1+cell": {
     "cellMetadata": {},
     "inputWidgets": {},
     "nuid": "58d28549-62f2-403c-add2-ca468ba4202b",
     "showTitle": false,
     "title": ""
    }
   },
   "outputs": [],
   "source": [
    "relationship = {\n",
    "    \"typeName\": \"azure_analysis_services_server_models\",\n",
    "    \"attributes\": {},\n",
    "    \"guid\": -100,\n",
    "    \"provenanceType\": 0,\n",
    "    \"end1\": {\n",
    "        \"guid\": serverGuid,\n",
    "        \"typeName\": \"azure_analysis_services_server\",\n",
    "        \"uniqueAttributes\": {\"qualifiedName\": \"asazure://exsaaseastus2.asazure.windows.net/aashomserver\"}\n",
    "\n",
    "    },\n",
    "    \"end2\": {\n",
    "        \"guid\": modelGuid2,\n",
    "        \"typeName\": \"azure_analysis_services_model\",\n",
    "        \"uniqueAttributes\": {\"qualifiedName\": \"asazure://exsaaseastus2.asazure.windows.net/aashomserver/model2\"}\n",
    "    }\n",
    "}\n",
    "# Upload the new relationship\n",
    "client.upload_relationship(relationship)"
   ]
  },
  {
   "cell_type": "markdown",
   "metadata": {
    "application/vnd.databricks.v1+cell": {
     "cellMetadata": {},
     "inputWidgets": {},
     "nuid": "381cc13b-2598-4022-8f65-084cbcd30362",
     "showTitle": false,
     "title": ""
    }
   },
   "source": [
    "> This is an exemple on how may be appearing on Azure Purview at this point:\n",
    "<img src=\"./img/serverRelationWithModels.png\" width=\"800\" height=\"800\">\n",
    "\n",
    "---\n",
    "\n",
    "#### Create the relationship between the model (model1) and table (table1)"
   ]
  },
  {
   "cell_type": "code",
   "execution_count": 0,
   "metadata": {
    "application/vnd.databricks.v1+cell": {
     "cellMetadata": {},
     "inputWidgets": {},
     "nuid": "c073c1cc-3aaf-4501-ab7f-ad261512a7db",
     "showTitle": false,
     "title": ""
    }
   },
   "outputs": [],
   "source": [
    "relationship = {\n",
    "    \"typeName\": \"azure_analysis_services_model_tables\",\n",
    "    \"attributes\": {},\n",
    "    \"guid\": -100,\n",
    "    \"provenanceType\": 0,\n",
    "    \"end1\": {\n",
    "        \"guid\": modelGuid1,\n",
    "        \"typeName\": \"azure_analysis_services_model\",\n",
    "        \"uniqueAttributes\": {\"qualifiedName\": \"asazure://exsaaseastus2.asazure.windows.net/aashomserver/model1\"}\n",
    "    },\n",
    "    \"end2\": {\n",
    "        \"guid\": tableGuid,\n",
    "        \"typeName\": \"azure_analysis_services_table\",\n",
    "        \"uniqueAttributes\": {\"qualifiedName\": \"asazure://exsaaseastus2.asazure.windows.net/aashomserver/model1/table1\"}\n",
    "    }\n",
    "}\n",
    "# Upload the new relationship\n",
    "client.upload_relationship(relationship)"
   ]
  },
  {
   "cell_type": "markdown",
   "metadata": {
    "application/vnd.databricks.v1+cell": {
     "cellMetadata": {},
     "inputWidgets": {},
     "nuid": "a160bcb0-f8cb-48c6-bfe4-ae2ef6f85792",
     "showTitle": false,
     "title": ""
    }
   },
   "source": [
    "#### Create the relationship between the table (table1) and column (column1)"
   ]
  },
  {
   "cell_type": "code",
   "execution_count": 0,
   "metadata": {
    "application/vnd.databricks.v1+cell": {
     "cellMetadata": {},
     "inputWidgets": {},
     "nuid": "1642df9e-a6a3-457a-912f-8deae7abbb70",
     "showTitle": false,
     "title": ""
    }
   },
   "outputs": [],
   "source": [
    "relationship = {\n",
    "    \"typeName\": \"azure_analysis_services_table_columns\",\n",
    "    \"attributes\": {},\n",
    "    \"guid\": -100,\n",
    "    \"provenanceType\": 0,\n",
    "    \"end1\": {\n",
    "        \"guid\": tableGuid,\n",
    "        \"typeName\": \"azure_analysis_services_table\",\n",
    "        \"uniqueAttributes\": {\"qualifiedName\": \"asazure://exsaaseastus2.asazure.windows.net/aashomserver/model1/table1\"}\n",
    "    },\n",
    "    \"end2\": {\n",
    "        \"guid\": columnGuid,\n",
    "        \"typeName\": \"azure_analysis_services_column\",\n",
    "        \"uniqueAttributes\": {\"qualifiedName\": \"asazure://exsaaseastus2.asazure.windows.net/aashomserver/model1/table1#column1\"}\n",
    "    }\n",
    "}\n",
    "# Upload the new relationship\n",
    "client.upload_relationship(relationship)"
   ]
  },
  {
   "cell_type": "markdown",
   "metadata": {
    "application/vnd.databricks.v1+cell": {
     "cellMetadata": {},
     "inputWidgets": {},
     "nuid": "c2254a7e-31c2-4b34-8364-56f72dba1e9f",
     "showTitle": false,
     "title": ""
    }
   },
   "source": [
    "> This is an exemple on how may be appearing on Azure Purview at this point:\n",
    "<img src=\"./img/tableRelationWithColumns.png\" width=\"800\" height=\"800\">\n",
    "\n",
    "---\n",
    "\n",
    "### Clean Up"
   ]
  },
  {
   "cell_type": "code",
   "execution_count": 0,
   "metadata": {
    "application/vnd.databricks.v1+cell": {
     "cellMetadata": {},
     "inputWidgets": {},
     "nuid": "31cf9ef8-895f-43f0-880d-20aca3f84da0",
     "showTitle": false,
     "title": ""
    }
   },
   "outputs": [],
   "source": [
    "# Deletes all entities and custom types\n",
    "client.delete_entity(guid=modelGuid1)\n",
    "client.delete_entity(guid=modelGuid2)\n",
    "client.delete_entity(guid=serverGuid)\n",
    "client.delete_entity(guid=tableGuid)\n",
    "client.delete_type(name=\"azure_analysis_services_server_models\")\n",
    "client.delete_type(name=\"azure_analysis_services_model_tables\")\n",
    "client.delete_type(name=\"azure_analysis_services_table_columns\")\n",
    "client.delete_type(name=\"azure_analysis_services_server\")\n",
    "client.delete_type(name=\"azure_analysis_services_model\")\n",
    "client.delete_type(name=\"azure_analysis_services_table\")\n",
    "client.delete_type(name=\"azure_analysis_services_column\")"
   ]
  },
  {
   "cell_type": "markdown",
   "metadata": {
    "application/vnd.databricks.v1+cell": {
     "cellMetadata": {},
     "inputWidgets": {},
     "nuid": "695541a5-c46f-4ac4-bfb0-31e152598831",
     "showTitle": false,
     "title": ""
    }
   },
   "source": [
    "### Conclusions\n",
    "> This is a sample to help you to represents Azure Analysis Services on Azure Purviiew, creating and uploading the assets in a manual manner. <br> The point here is to give an overall ideia on how to configure everything and see how it works. <br><br>\n",
    "> For operationalize and make this process more automatic, you may get the metadata from AAS through API (<a href=\"https://docs.microsoft.com/en-us/rest/api/analysisservices/\">AAS REST API</a>) and upload everything using a Excel template file to do so (<a href=\"https://github.com/wjohnson/pyapacheatlas/tree/master/samples/excel\">Excel Sample</a>)."
   ]
  }
 ],
 "metadata": {
  "application/vnd.databricks.v1+notebook": {
   "dashboards": [],
   "language": "python",
   "notebookMetadata": {},
   "notebookName": "Purview_Analysis_Services_Custom",
   "widgets": {}
  },
  "kernelspec": {
   "display_name": "Python 3",
   "language": "python",
   "name": "python3"
  },
  "language_info": {
   "codemirror_mode": {
    "name": "ipython",
    "version": 3
   },
   "file_extension": ".py",
   "mimetype": "text/x-python",
   "name": "python",
   "nbconvert_exporter": "python",
   "pygments_lexer": "ipython3",
   "version": "3.8.5"
  }
 },
 "nbformat": 4,
 "nbformat_minor": 0
}
